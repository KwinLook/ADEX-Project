{
  "nbformat": 4,
  "nbformat_minor": 0,
  "metadata": {
    "colab": {
      "provenance": [],
      "machine_shape": "hm",
      "authorship_tag": "ABX9TyNdKrxCtqWCy3VcFJJnfVus",
      "include_colab_link": true
    },
    "kernelspec": {
      "name": "python3",
      "display_name": "Python 3"
    },
    "language_info": {
      "name": "python"
    },
    "accelerator": "GPU",
    "gpuClass": "premium"
  },
  "cells": [
    {
      "cell_type": "markdown",
      "metadata": {
        "id": "view-in-github",
        "colab_type": "text"
      },
      "source": [
        "<a href=\"https://colab.research.google.com/github/KwinLook/ADEX-Project/blob/main/Project-Code/Normal_ANN_Model.ipynb\" target=\"_parent\"><img src=\"https://colab.research.google.com/assets/colab-badge.svg\" alt=\"Open In Colab\"/></a>"
      ]
    },
    {
      "cell_type": "code",
      "source": [
        "# from google.colab import drive\n",
        "# drive.mount('/content/drive')\n",
        "# ----------------------------------------------\n",
        "\n",
        "!unzip --qq dataset-training-3000-images.zip\n",
        "!unzip --qq dataset-predict-750-images.zip"
      ],
      "metadata": {
        "id": "r6nYz6njwCsK"
      },
      "execution_count": 1,
      "outputs": []
    },
    {
      "cell_type": "code",
      "execution_count": 2,
      "metadata": {
        "id": "Fys1chJXcuXI"
      },
      "outputs": [],
      "source": [
        "import numpy as np\n",
        "import matplotlib.pyplot as plt\n",
        "import torch\n",
        "import torch.utils.data as data\n",
        "import torchvision\n",
        "from torchvision import datasets, transforms\n",
        "from torch import nn,optim\n",
        "from time import time"
      ]
    },
    {
      "cell_type": "code",
      "source": [
        "width = 150\n",
        "size=(width,width)\n",
        "\n",
        "tranform = transforms.Compose([transforms.Resize(size),\n",
        "                              transforms.Grayscale(num_output_channels=1),\n",
        "                              transforms.ToTensor(),\n",
        "                              transforms.Normalize((0.5),(0.5))])"
      ],
      "metadata": {
        "id": "rskklrQT0jqd"
      },
      "execution_count": 3,
      "outputs": []
    },
    {
      "cell_type": "code",
      "source": [
        "trainset = torchvision.datasets.ImageFolder(root=\"train/\", transform=tranform)\n",
        "print(trainset)"
      ],
      "metadata": {
        "id": "1YDOtA0r1PWh",
        "colab": {
          "base_uri": "https://localhost:8080/"
        },
        "outputId": "bf49110a-dc6f-4b55-8e89-d750e779dd48"
      },
      "execution_count": 4,
      "outputs": [
        {
          "output_type": "stream",
          "name": "stdout",
          "text": [
            "Dataset ImageFolder\n",
            "    Number of datapoints: 3000\n",
            "    Root location: train/\n",
            "    StandardTransform\n",
            "Transform: Compose(\n",
            "               Resize(size=(150, 150), interpolation=bilinear, max_size=None, antialias=None)\n",
            "               Grayscale(num_output_channels=1)\n",
            "               ToTensor()\n",
            "               Normalize(mean=0.5, std=0.5)\n",
            "           )\n"
          ]
        }
      ]
    },
    {
      "cell_type": "code",
      "source": [
        "validationset = torchvision.datasets.ImageFolder(root=\"validation/\", transform=tranform)\n",
        "print(validationset)"
      ],
      "metadata": {
        "id": "fZvMGkxA1kYP",
        "colab": {
          "base_uri": "https://localhost:8080/"
        },
        "outputId": "abece2c6-e122-46ee-c533-fcf697d9b415"
      },
      "execution_count": 5,
      "outputs": [
        {
          "output_type": "stream",
          "name": "stdout",
          "text": [
            "Dataset ImageFolder\n",
            "    Number of datapoints: 1500\n",
            "    Root location: validation/\n",
            "    StandardTransform\n",
            "Transform: Compose(\n",
            "               Resize(size=(150, 150), interpolation=bilinear, max_size=None, antialias=None)\n",
            "               Grayscale(num_output_channels=1)\n",
            "               ToTensor()\n",
            "               Normalize(mean=0.5, std=0.5)\n",
            "           )\n"
          ]
        }
      ]
    },
    {
      "cell_type": "code",
      "source": [
        "trainloader = torch.utils.data.DataLoader(trainset, batch_size=4, shuffle=True)\n",
        "print(trainloader)"
      ],
      "metadata": {
        "colab": {
          "base_uri": "https://localhost:8080/"
        },
        "id": "h7di8tskwcIp",
        "outputId": "b3718b34-85e0-4934-903e-ed20906bf5b9"
      },
      "execution_count": 6,
      "outputs": [
        {
          "output_type": "stream",
          "name": "stdout",
          "text": [
            "<torch.utils.data.dataloader.DataLoader object at 0x7feee8aa9a00>\n"
          ]
        }
      ]
    },
    {
      "cell_type": "code",
      "source": [
        "validationloader = torch.utils.data.DataLoader(validationset, batch_size=4, shuffle=True)\n",
        "print(validationloader)"
      ],
      "metadata": {
        "colab": {
          "base_uri": "https://localhost:8080/"
        },
        "id": "TvdQKsrZwdry",
        "outputId": "4252ff3b-5dd3-4c57-ac0c-c730c453167c"
      },
      "execution_count": 7,
      "outputs": [
        {
          "output_type": "stream",
          "name": "stdout",
          "text": [
            "<torch.utils.data.dataloader.DataLoader object at 0x7feea4b692b0>\n"
          ]
        }
      ]
    },
    {
      "cell_type": "code",
      "source": [
        "images, labels = next(iter(trainloader))"
      ],
      "metadata": {
        "id": "ZgKjGaH9wfjh"
      },
      "execution_count": 8,
      "outputs": []
    },
    {
      "cell_type": "code",
      "source": [
        "print(images.shape)\n",
        "print(labels.shape)\n",
        "print(labels)"
      ],
      "metadata": {
        "colab": {
          "base_uri": "https://localhost:8080/"
        },
        "id": "JSsMWjnmwhHk",
        "outputId": "c914603f-8fe4-47db-8460-15f1d6c1ccaf"
      },
      "execution_count": 9,
      "outputs": [
        {
          "output_type": "stream",
          "name": "stdout",
          "text": [
            "torch.Size([4, 1, 150, 150])\n",
            "torch.Size([4])\n",
            "tensor([0, 0, 1, 1])\n"
          ]
        }
      ]
    },
    {
      "cell_type": "code",
      "source": [
        "# plt.imshow(images[2][0],cmap='gray')\n",
        "# plt.show()\n",
        "# print('Answer:',labels[2])"
      ],
      "metadata": {
        "id": "L5ix4ur9wiko"
      },
      "execution_count": 10,
      "outputs": []
    },
    {
      "cell_type": "code",
      "source": [
        "#Create ANN Model\n",
        "input_size = width*width*1\n",
        "hidden_sizes = [1890,1350,810,270,135,60]\n",
        "output_size = 3\n",
        "\n",
        "model = nn.Sequential(nn.Linear(input_size, hidden_sizes[0]), nn.ReLU(),\n",
        "                      nn.Linear(hidden_sizes[0], hidden_sizes[1]), nn.ReLU(),\n",
        "                      nn.Linear(hidden_sizes[1], hidden_sizes[2]), nn.ReLU(),\n",
        "                      nn.Linear(hidden_sizes[2], hidden_sizes[3]), nn.ReLU(),\n",
        "                      nn.Linear(hidden_sizes[3], hidden_sizes[4]), nn.ReLU(),\n",
        "                      nn.Linear(hidden_sizes[4], hidden_sizes[5]), nn.ReLU(),\n",
        "                      nn.Linear(hidden_sizes[5], output_size), nn.LogSoftmax(dim=1))\n",
        "\n",
        "print(model)"
      ],
      "metadata": {
        "colab": {
          "base_uri": "https://localhost:8080/"
        },
        "id": "ZehPdXGm3PfH",
        "outputId": "22d4cb2f-d0e3-4c74-d72c-9a284a64bb24"
      },
      "execution_count": 11,
      "outputs": [
        {
          "output_type": "stream",
          "name": "stdout",
          "text": [
            "Sequential(\n",
            "  (0): Linear(in_features=22500, out_features=1890, bias=True)\n",
            "  (1): ReLU()\n",
            "  (2): Linear(in_features=1890, out_features=1350, bias=True)\n",
            "  (3): ReLU()\n",
            "  (4): Linear(in_features=1350, out_features=810, bias=True)\n",
            "  (5): ReLU()\n",
            "  (6): Linear(in_features=810, out_features=270, bias=True)\n",
            "  (7): ReLU()\n",
            "  (8): Linear(in_features=270, out_features=135, bias=True)\n",
            "  (9): ReLU()\n",
            "  (10): Linear(in_features=135, out_features=60, bias=True)\n",
            "  (11): ReLU()\n",
            "  (12): Linear(in_features=60, out_features=3, bias=True)\n",
            "  (13): LogSoftmax(dim=1)\n",
            ")\n"
          ]
        }
      ]
    },
    {
      "cell_type": "code",
      "source": [
        "#Train Model\n",
        "criterion = nn.NLLLoss()\n",
        "optimizer = optim.SGD(model.parameters(), lr=0.001, momentum=0.09)\n",
        "time0 = time()\n",
        "epochs = 100\n",
        "for e in range(epochs):\n",
        "  running_loss = 0\n",
        "  for images, labels in trainloader:\n",
        "    x = images.view(images.shape[0], -1)\n",
        "    optimizer.zero_grad()\n",
        "    output = model(x)\n",
        "    loss = criterion(output, labels)\n",
        "    loss.backward()\n",
        "    optimizer.step()\n",
        "    running_loss += loss.item()\n",
        "  print('Epoch {} - Train loss {}'.format(e+1, running_loss/len(trainloader)))\n",
        "print('\\nTraining Time (in minutes) - {}'.format((time()-time0)/60))"
      ],
      "metadata": {
        "colab": {
          "base_uri": "https://localhost:8080/"
        },
        "id": "4yVJ1YWv3UrH",
        "outputId": "5800f4cd-a7a0-4f11-b9bf-d84cd0265b69"
      },
      "execution_count": 12,
      "outputs": [
        {
          "output_type": "stream",
          "name": "stdout",
          "text": [
            "Epoch 1 - Train loss 1.0376171641349792\n",
            "Epoch 2 - Train loss 0.9348373959064483\n",
            "Epoch 3 - Train loss 0.8673819722334544\n",
            "Epoch 4 - Train loss 0.8074015822410584\n",
            "Epoch 5 - Train loss 0.728358655055364\n",
            "Epoch 6 - Train loss 0.6092408990661303\n",
            "Epoch 7 - Train loss 0.4336787911107143\n",
            "Epoch 8 - Train loss 0.3564859791845083\n",
            "Epoch 9 - Train loss 0.3263801261534294\n",
            "Epoch 10 - Train loss 0.30564227628832064\n",
            "Epoch 11 - Train loss 0.280046589884907\n",
            "Epoch 12 - Train loss 0.2581656560152769\n",
            "Epoch 13 - Train loss 0.22812580727475384\n",
            "Epoch 14 - Train loss 0.20122323524951935\n",
            "Epoch 15 - Train loss 0.1792023316770792\n",
            "Epoch 16 - Train loss 0.15185774714142705\n",
            "Epoch 17 - Train loss 0.12390404438196372\n",
            "Epoch 18 - Train loss 0.10355211196653545\n",
            "Epoch 19 - Train loss 0.08237048833650382\n",
            "Epoch 20 - Train loss 0.08534520665059488\n",
            "Epoch 21 - Train loss 0.04882829743528661\n",
            "Epoch 22 - Train loss 0.04996393571479712\n",
            "Epoch 23 - Train loss 0.037216939568441985\n",
            "Epoch 24 - Train loss 0.030515347059602693\n",
            "Epoch 25 - Train loss 0.019418132220142676\n",
            "Epoch 26 - Train loss 0.0075907939200939535\n",
            "Epoch 27 - Train loss 0.002510646312669754\n",
            "Epoch 28 - Train loss 0.0017096654840194484\n",
            "Epoch 29 - Train loss 0.001354526083113645\n",
            "Epoch 30 - Train loss 0.0011144075644454765\n",
            "Epoch 31 - Train loss 0.0009598806966823758\n",
            "Epoch 32 - Train loss 0.0008416147202293966\n",
            "Epoch 33 - Train loss 0.0007345617743179294\n",
            "Epoch 34 - Train loss 0.0006755951948768294\n",
            "Epoch 35 - Train loss 0.0006049121904384265\n",
            "Epoch 36 - Train loss 0.0005520533585843926\n",
            "Epoch 37 - Train loss 0.0005121616793824918\n",
            "Epoch 38 - Train loss 0.0004756491887607505\n",
            "Epoch 39 - Train loss 0.00044282097417400716\n",
            "Epoch 40 - Train loss 0.00040752724896632724\n",
            "Epoch 41 - Train loss 0.00038649552278957345\n",
            "Epoch 42 - Train loss 0.0003620758073526152\n",
            "Epoch 43 - Train loss 0.0003427904922829536\n",
            "Epoch 44 - Train loss 0.00032212463160476547\n",
            "Epoch 45 - Train loss 0.00030562556492001627\n",
            "Epoch 46 - Train loss 0.0002914679549273084\n",
            "Epoch 47 - Train loss 0.00027844008838368\n",
            "Epoch 48 - Train loss 0.00026652887756819154\n",
            "Epoch 49 - Train loss 0.00025383137854703366\n",
            "Epoch 50 - Train loss 0.00024191449221840837\n",
            "Epoch 51 - Train loss 0.00023268599322742983\n",
            "Epoch 52 - Train loss 0.00022414052979082536\n",
            "Epoch 53 - Train loss 0.00021544475344758968\n",
            "Epoch 54 - Train loss 0.00020733139457786365\n",
            "Epoch 55 - Train loss 0.00020004334871930496\n",
            "Epoch 56 - Train loss 0.0001918237395403537\n",
            "Epoch 57 - Train loss 0.0001859301674107409\n",
            "Epoch 58 - Train loss 0.0001795688983127377\n",
            "Epoch 59 - Train loss 0.00017392994764217444\n",
            "Epoch 60 - Train loss 0.0001685640655643657\n",
            "Epoch 61 - Train loss 0.00016398209981542778\n",
            "Epoch 62 - Train loss 0.00015843302674450874\n",
            "Epoch 63 - Train loss 0.00015392059961191743\n",
            "Epoch 64 - Train loss 0.00014905808949345102\n",
            "Epoch 65 - Train loss 0.00014501798030600336\n",
            "Epoch 66 - Train loss 0.00014165110614881607\n",
            "Epoch 67 - Train loss 0.00013784864802126624\n",
            "Epoch 68 - Train loss 0.00013368519415808322\n",
            "Epoch 69 - Train loss 0.00013080663366229337\n",
            "Epoch 70 - Train loss 0.00012762582302071717\n",
            "Epoch 71 - Train loss 0.00012419471573560752\n",
            "Epoch 72 - Train loss 0.00012143545670630829\n",
            "Epoch 73 - Train loss 0.00011839531520211703\n",
            "Epoch 74 - Train loss 0.00011604301420971789\n",
            "Epoch 75 - Train loss 0.00011316292246852791\n",
            "Epoch 76 - Train loss 0.00011061878013760425\n",
            "Epoch 77 - Train loss 0.00010831274637717078\n",
            "Epoch 78 - Train loss 0.00010599059992476375\n",
            "Epoch 79 - Train loss 0.00010395052199946045\n",
            "Epoch 80 - Train loss 0.000101387292012447\n",
            "Epoch 81 - Train loss 9.973762674677763e-05\n",
            "Epoch 82 - Train loss 9.754971204120011e-05\n",
            "Epoch 83 - Train loss 9.576869288290387e-05\n",
            "Epoch 84 - Train loss 9.344274935558872e-05\n",
            "Epoch 85 - Train loss 9.224338483425262e-05\n",
            "Epoch 86 - Train loss 9.038170687629333e-05\n",
            "Epoch 87 - Train loss 8.876018133338448e-05\n",
            "Epoch 88 - Train loss 8.701060636390896e-05\n",
            "Epoch 89 - Train loss 8.560777634870694e-05\n",
            "Epoch 90 - Train loss 8.396682295958157e-05\n",
            "Epoch 91 - Train loss 8.269394847236811e-05\n",
            "Epoch 92 - Train loss 8.1143711699274e-05\n",
            "Epoch 93 - Train loss 7.903607937394004e-05\n",
            "Epoch 94 - Train loss 7.865402348150023e-05\n",
            "Epoch 95 - Train loss 7.722843308449493e-05\n",
            "Epoch 96 - Train loss 7.599085000101506e-05\n",
            "Epoch 97 - Train loss 7.476363220321502e-05\n",
            "Epoch 98 - Train loss 7.359441396051618e-05\n",
            "Epoch 99 - Train loss 7.244352643121962e-05\n",
            "Epoch 100 - Train loss 7.125156921594803e-05\n",
            "\n",
            "Training Time (in minutes) - 108.28684827884038\n"
          ]
        }
      ]
    },
    {
      "cell_type": "code",
      "source": [
        "images_validation,labels_validation=next(iter(validationloader))\n",
        "print(images_validation.shape)\n",
        "print(labels_validation)"
      ],
      "metadata": {
        "colab": {
          "base_uri": "https://localhost:8080/"
        },
        "id": "2r7VHs9538XQ",
        "outputId": "10f707c5-f089-405d-88c8-67a78e2bb063"
      },
      "execution_count": 13,
      "outputs": [
        {
          "output_type": "stream",
          "name": "stdout",
          "text": [
            "torch.Size([4, 1, 150, 150])\n",
            "tensor([1, 1, 0, 0])\n"
          ]
        }
      ]
    },
    {
      "cell_type": "code",
      "source": [
        "x_validation = images_validation[1].view(1,width*width)\n",
        "\n",
        "with torch.no_grad():\n",
        "  y = model(x_validation)\n",
        "\n",
        "print(torch.exp(y))\n",
        "\n",
        "plt.imshow(images_validation[1][0], cmap='gray')\n",
        "plt.show()\n",
        "print('ANSWER:' ,labels[1])\n"
      ],
      "metadata": {
        "colab": {
          "base_uri": "https://localhost:8080/",
          "height": 305
        },
        "id": "H7Y_bdKQ4IWP",
        "outputId": "7fe26b76-8643-418b-8610-9bef87c00a38"
      },
      "execution_count": 14,
      "outputs": [
        {
          "output_type": "stream",
          "name": "stdout",
          "text": [
            "tensor([[1.8638e-05, 9.9998e-01, 1.3648e-06]])\n"
          ]
        },
        {
          "output_type": "display_data",
          "data": {
            "text/plain": [
              "<Figure size 432x288 with 1 Axes>"
            ],
            "image/png": "[encoded data removed]"
          },
          "metadata": {
            "needs_background": "light"
          }
        },
        {
          "output_type": "stream",
          "name": "stdout",
          "text": [
            "ANSWER: tensor(0)\n"
          ]
        }
      ]
    },
    {
      "cell_type": "code",
      "source": [
        "true_positives = 0\n",
        "false_positives = 0\n",
        "false_negatives = 0\n",
        "true_negatives = 0\n",
        "\n",
        "for images_validation, labels_validation in validationloader:\n",
        "  for i in range(len(labels_validation)):\n",
        "    x = images_validation[i].view(1,150*150)\n",
        "\n",
        "    with torch.no_grad():\n",
        "        log_y = model(x)\n",
        "    y = torch.exp(log_y)\n",
        "    prob = list(y.numpy()[0])\n",
        "    pred_output = prob.index(max(prob))\n",
        "\n",
        "    answer = labels_validation.numpy()[i]\n",
        "    if answer == pred_output and answer == 0:\n",
        "          true_negatives += 1\n",
        "    elif answer == pred_output and answer == 1:\n",
        "          true_positives += 1\n",
        "    elif answer != pred_output and answer == 0:\n",
        "          false_positives += 1\n",
        "    elif answer != pred_output and answer == 1:\n",
        "          false_negatives += 1\n",
        "\n",
        "precision = true_positives / (true_positives + false_positives)\n",
        "recall = true_positives / (true_positives + false_negatives)\n",
        "f1 = 2 * (precision * recall) / (precision + recall)\n",
        "\n",
        "print('Number of Images validated:', true_positives + false_positives + false_negatives + true_negatives)\n",
        "print('Model Accuracy:', (true_positives + true_negatives) / (true_positives + false_positives + false_negatives + true_negatives))\n",
        "print('Precision:', precision)\n",
        "print('Recall:', recall)\n",
        "print('F1 Score:', f1)\n"
      ],
      "metadata": {
        "colab": {
          "base_uri": "https://localhost:8080/"
        },
        "id": "YBbaqj8cbXuv",
        "outputId": "085698fd-0067-4d22-f4a0-df9cae86489f"
      },
      "execution_count": 15,
      "outputs": [
        {
          "output_type": "stream",
          "name": "stdout",
          "text": [
            "Number of Images validated: 1500\n",
            "Model Accuracy: 0.858\n",
            "Precision: 0.7070707070707071\n",
            "Recall: 0.98\n",
            "F1 Score: 0.8214585079631181\n"
          ]
        }
      ]
    },
    {
      "cell_type": "markdown",
      "source": [
        "**Prediction With Unseen Data**"
      ],
      "metadata": {
        "id": "NPhsxiGOceZT"
      }
    },
    {
      "cell_type": "code",
      "source": [
        "predictset = torchvision.datasets.ImageFolder(root=\"predict-750-images/\", transform=tranform)\n",
        "print(predictset)"
      ],
      "metadata": {
        "colab": {
          "base_uri": "https://localhost:8080/"
        },
        "id": "4sptB5q-cjc9",
        "outputId": "82d6b684-2d4c-40e0-e133-c44dfcf8b6fe"
      },
      "execution_count": 16,
      "outputs": [
        {
          "output_type": "stream",
          "name": "stdout",
          "text": [
            "Dataset ImageFolder\n",
            "    Number of datapoints: 750\n",
            "    Root location: predict-750-images/\n",
            "    StandardTransform\n",
            "Transform: Compose(\n",
            "               Resize(size=(150, 150), interpolation=bilinear, max_size=None, antialias=None)\n",
            "               Grayscale(num_output_channels=1)\n",
            "               ToTensor()\n",
            "               Normalize(mean=0.5, std=0.5)\n",
            "           )\n"
          ]
        }
      ]
    },
    {
      "cell_type": "code",
      "source": [
        "predictloader = torch.utils.data.DataLoader(predictset, batch_size=4, shuffle=True)\n",
        "print(predictloader)"
      ],
      "metadata": {
        "colab": {
          "base_uri": "https://localhost:8080/"
        },
        "id": "HujnDdETcmHR",
        "outputId": "2e657fb3-4d5b-4cdd-b9cc-4db25e223b39"
      },
      "execution_count": 17,
      "outputs": [
        {
          "output_type": "stream",
          "name": "stdout",
          "text": [
            "<torch.utils.data.dataloader.DataLoader object at 0x7fee181e2850>\n"
          ]
        }
      ]
    },
    {
      "cell_type": "code",
      "source": [
        "images_predict,labels_predict=next(iter(predictloader))\n",
        "print(images_predict.shape)\n",
        "print(labels_predict)"
      ],
      "metadata": {
        "colab": {
          "base_uri": "https://localhost:8080/"
        },
        "id": "0939Q1SrcqIH",
        "outputId": "4ee8ac51-7d75-4b95-8542-db4cc731d40b"
      },
      "execution_count": 18,
      "outputs": [
        {
          "output_type": "stream",
          "name": "stdout",
          "text": [
            "torch.Size([4, 1, 150, 150])\n",
            "tensor([0, 0, 0, 0])\n"
          ]
        }
      ]
    },
    {
      "cell_type": "code",
      "source": [
        "x_predict = images_predict[1].view(1,width*width)\n",
        "\n",
        "with torch.no_grad():\n",
        "  y = model(x_predict)\n",
        "\n",
        "print(torch.exp(y))\n",
        "\n",
        "plt.imshow(images_predict[1][0], cmap='gray')\n",
        "plt.show()\n",
        "print('ANSWER:' ,labels[1])\n"
      ],
      "metadata": {
        "colab": {
          "base_uri": "https://localhost:8080/",
          "height": 305
        },
        "id": "wC9q1XLUcrbs",
        "outputId": "6f3afd73-686a-4ae2-f5b4-68cf4406d83e"
      },
      "execution_count": 19,
      "outputs": [
        {
          "output_type": "stream",
          "name": "stdout",
          "text": [
            "tensor([[1.1417e-06, 1.0000e+00, 5.5421e-08]])\n"
          ]
        },
        {
          "output_type": "display_data",
          "data": {
            "text/plain": [
              "<Figure size 432x288 with 1 Axes>"
            ],
            "image/png": "[encoded data removed]"
          },
          "metadata": {
            "needs_background": "light"
          }
        },
        {
          "output_type": "stream",
          "name": "stdout",
          "text": [
            "ANSWER: tensor(0)\n"
          ]
        }
      ]
    },
    {
      "cell_type": "code",
      "source": [
        "true_positives = 0\n",
        "false_positives = 0\n",
        "false_negatives = 0\n",
        "true_negatives = 0\n",
        "\n",
        "for images_predict, labels_predict in predictloader:\n",
        "  for i in range(len(labels_predict)):\n",
        "    x = images_predict[i].view(1,150*150)\n",
        "\n",
        "    with torch.no_grad():\n",
        "        log_y = model(x)\n",
        "    y = torch.exp(log_y)\n",
        "    prob = list(y.numpy()[0])\n",
        "    pred_output = prob.index(max(prob))\n",
        "\n",
        "    answer = labels_predict.numpy()[i]\n",
        "    if answer == pred_output and answer == 0:\n",
        "          true_negatives += 1\n",
        "    elif answer == pred_output and answer == 1:\n",
        "          true_positives += 1\n",
        "    elif answer != pred_output and answer == 0:\n",
        "          false_positives += 1\n",
        "    elif answer != pred_output and answer == 1:\n",
        "          false_negatives += 1\n",
        "\n",
        "precision = true_positives / (true_positives + false_positives)\n",
        "if (true_positives + false_negatives) == 0:\n",
        "    recall = 0\n",
        "else:\n",
        "    recall = true_positives / (true_positives + false_negatives)\n",
        "if (precision + recall) == 0:\n",
        "    f1 = 0\n",
        "else:\n",
        "    f1 = 2 * (precision * recall) / (precision + recall)\n",
        "\n",
        "print('Number of Images Predict with Unseen Data:', true_positives + false_positives + false_negatives + true_negatives)\n",
        "print('Model Accuracy:', (true_positives + true_negatives) / (true_positives + false_positives + false_negatives + true_negatives))\n",
        "print('Precision:', precision)\n",
        "print('Recall:', recall)\n",
        "print('F1 Score:', f1)"
      ],
      "metadata": {
        "colab": {
          "base_uri": "https://localhost:8080/"
        },
        "id": "vtzYlnwIcstR",
        "outputId": "32fab6bc-17f1-44a4-b204-5188e759f1d6"
      },
      "execution_count": 20,
      "outputs": [
        {
          "output_type": "stream",
          "name": "stdout",
          "text": [
            "Number of Images Predict with Unseen Data: 750\n",
            "Model Accuracy: 0.31466666666666665\n",
            "Precision: 0.0\n",
            "Recall: 0\n",
            "F1 Score: 0\n"
          ]
        }
      ]
    },
    {
      "cell_type": "code",
      "source": [],
      "metadata": {
        "id": "g1xarjsldOek"
      },
      "execution_count": 20,
      "outputs": []
    }
  ]
}