{
  "cells": [
    {
      "cell_type": "markdown",
      "metadata": {
        "id": "view-in-github",
        "colab_type": "text"
      },
      "source": [
        "<a href=\"https://colab.research.google.com/github/KwinLook/ADEX-Project/blob/main/Project-Code/ANN-Model/Normal_ANN_Model-%5BEpoch%2080%5D.ipynb\" target=\"_parent\"><img src=\"https://colab.research.google.com/assets/colab-badge.svg\" alt=\"Open In Colab\"/></a>"
      ]
    },
    {
      "cell_type": "markdown",
      "source": [
        "**Normal ANN Model**\n",
        "*   Epoch Setting = 80\n",
        "*   Add Confusion Matrix Out Put (TP/TN/FP/FN)\n",
        "\n"
      ],
      "metadata": {
        "id": "iKlHRmY0Uywu"
      }
    },
    {
      "cell_type": "code",
      "execution_count": null,
      "metadata": {
        "id": "r6nYz6njwCsK"
      },
      "outputs": [],
      "source": [
        "# from google.colab import drive\n",
        "# drive.mount('/content/drive')\n",
        "# ----------------------------------------------\n",
        "\n",
        "!unzip --qq dataset-training-3000-images.zip\n",
        "!unzip --qq dataset-predict-750-images.zip"
      ]
    },
    {
      "cell_type": "code",
      "execution_count": null,
      "metadata": {
        "id": "Fys1chJXcuXI"
      },
      "outputs": [],
      "source": [
        "import numpy as np\n",
        "import matplotlib.pyplot as plt\n",
        "import torch\n",
        "import torch.utils.data as data\n",
        "import torchvision\n",
        "from torchvision import datasets, transforms\n",
        "from torch import nn,optim\n",
        "from time import time"
      ]
    },
    {
      "cell_type": "code",
      "execution_count": null,
      "metadata": {
        "id": "rskklrQT0jqd"
      },
      "outputs": [],
      "source": [
        "width = 150\n",
        "size=(width,width)\n",
        "\n",
        "tranform = transforms.Compose([transforms.Resize(size),\n",
        "                              transforms.Grayscale(num_output_channels=1),\n",
        "                              transforms.ToTensor(),\n",
        "                              transforms.Normalize((0.5),(0.5))])"
      ]
    },
    {
      "cell_type": "code",
      "execution_count": null,
      "metadata": {
        "colab": {
          "base_uri": "https://localhost:8080/"
        },
        "id": "1YDOtA0r1PWh",
        "outputId": "59852f9b-6227-4baf-cf05-29d657479f94"
      },
      "outputs": [
        {
          "output_type": "stream",
          "name": "stdout",
          "text": [
            "Dataset ImageFolder\n",
            "    Number of datapoints: 3000\n",
            "    Root location: train/\n",
            "    StandardTransform\n",
            "Transform: Compose(\n",
            "               Resize(size=(150, 150), interpolation=bilinear, max_size=None, antialias=None)\n",
            "               Grayscale(num_output_channels=1)\n",
            "               ToTensor()\n",
            "               Normalize(mean=0.5, std=0.5)\n",
            "           )\n"
          ]
        }
      ],
      "source": [
        "trainset = torchvision.datasets.ImageFolder(root=\"train/\", transform=tranform)\n",
        "print(trainset)"
      ]
    },
    {
      "cell_type": "code",
      "execution_count": null,
      "metadata": {
        "colab": {
          "base_uri": "https://localhost:8080/"
        },
        "id": "fZvMGkxA1kYP",
        "outputId": "c2e54d7b-2fb5-4ef1-a82d-0eac0669e87c"
      },
      "outputs": [
        {
          "output_type": "stream",
          "name": "stdout",
          "text": [
            "Dataset ImageFolder\n",
            "    Number of datapoints: 1500\n",
            "    Root location: validation/\n",
            "    StandardTransform\n",
            "Transform: Compose(\n",
            "               Resize(size=(150, 150), interpolation=bilinear, max_size=None, antialias=None)\n",
            "               Grayscale(num_output_channels=1)\n",
            "               ToTensor()\n",
            "               Normalize(mean=0.5, std=0.5)\n",
            "           )\n"
          ]
        }
      ],
      "source": [
        "validationset = torchvision.datasets.ImageFolder(root=\"validation/\", transform=tranform)\n",
        "print(validationset)"
      ]
    },
    {
      "cell_type": "code",
      "execution_count": null,
      "metadata": {
        "colab": {
          "base_uri": "https://localhost:8080/"
        },
        "id": "h7di8tskwcIp",
        "outputId": "70824074-d04e-4ba4-ef05-bcf9463ea7b5"
      },
      "outputs": [
        {
          "output_type": "stream",
          "name": "stdout",
          "text": [
            "<torch.utils.data.dataloader.DataLoader object at 0x7ff99e601c40>\n"
          ]
        }
      ],
      "source": [
        "trainloader = torch.utils.data.DataLoader(trainset, batch_size=4, shuffle=True)\n",
        "print(trainloader)"
      ]
    },
    {
      "cell_type": "code",
      "execution_count": null,
      "metadata": {
        "colab": {
          "base_uri": "https://localhost:8080/"
        },
        "id": "TvdQKsrZwdry",
        "outputId": "bd681c01-9738-4587-8a7c-a070eeb0dca9"
      },
      "outputs": [
        {
          "output_type": "stream",
          "name": "stdout",
          "text": [
            "<torch.utils.data.dataloader.DataLoader object at 0x7ff99e548160>\n"
          ]
        }
      ],
      "source": [
        "validationloader = torch.utils.data.DataLoader(validationset, batch_size=4, shuffle=True)\n",
        "print(validationloader)"
      ]
    },
    {
      "cell_type": "code",
      "execution_count": null,
      "metadata": {
        "id": "ZgKjGaH9wfjh"
      },
      "outputs": [],
      "source": [
        "images, labels = next(iter(trainloader))"
      ]
    },
    {
      "cell_type": "code",
      "execution_count": null,
      "metadata": {
        "colab": {
          "base_uri": "https://localhost:8080/"
        },
        "id": "JSsMWjnmwhHk",
        "outputId": "dc75dec3-aa2b-4833-884f-f9fa80cde4d7"
      },
      "outputs": [
        {
          "output_type": "stream",
          "name": "stdout",
          "text": [
            "torch.Size([4, 1, 150, 150])\n",
            "torch.Size([4])\n",
            "tensor([1, 1, 0, 1])\n"
          ]
        }
      ],
      "source": [
        "print(images.shape)\n",
        "print(labels.shape)\n",
        "print(labels)"
      ]
    },
    {
      "cell_type": "code",
      "execution_count": null,
      "metadata": {
        "id": "L5ix4ur9wiko"
      },
      "outputs": [],
      "source": [
        "# plt.imshow(images[2][0],cmap='gray')\n",
        "# plt.show()\n",
        "# print('Answer:',labels[2])"
      ]
    },
    {
      "cell_type": "code",
      "execution_count": null,
      "metadata": {
        "colab": {
          "base_uri": "https://localhost:8080/"
        },
        "id": "ZehPdXGm3PfH",
        "outputId": "9bbd03d4-6eb0-4a70-df0b-3efe30721f71"
      },
      "outputs": [
        {
          "output_type": "stream",
          "name": "stdout",
          "text": [
            "Sequential(\n",
            "  (0): Linear(in_features=22500, out_features=1890, bias=True)\n",
            "  (1): ReLU()\n",
            "  (2): Linear(in_features=1890, out_features=1350, bias=True)\n",
            "  (3): ReLU()\n",
            "  (4): Linear(in_features=1350, out_features=810, bias=True)\n",
            "  (5): ReLU()\n",
            "  (6): Linear(in_features=810, out_features=270, bias=True)\n",
            "  (7): ReLU()\n",
            "  (8): Linear(in_features=270, out_features=135, bias=True)\n",
            "  (9): ReLU()\n",
            "  (10): Linear(in_features=135, out_features=60, bias=True)\n",
            "  (11): ReLU()\n",
            "  (12): Linear(in_features=60, out_features=3, bias=True)\n",
            "  (13): LogSoftmax(dim=1)\n",
            ")\n"
          ]
        }
      ],
      "source": [
        "#Create ANN Model\n",
        "input_size = width*width*1\n",
        "hidden_sizes = [1890,1350,810,270,135,60]\n",
        "output_size = 3\n",
        "\n",
        "model = nn.Sequential(nn.Linear(input_size, hidden_sizes[0]), nn.ReLU(),\n",
        "                      nn.Linear(hidden_sizes[0], hidden_sizes[1]), nn.ReLU(),\n",
        "                      nn.Linear(hidden_sizes[1], hidden_sizes[2]), nn.ReLU(),\n",
        "                      nn.Linear(hidden_sizes[2], hidden_sizes[3]), nn.ReLU(),\n",
        "                      nn.Linear(hidden_sizes[3], hidden_sizes[4]), nn.ReLU(),\n",
        "                      nn.Linear(hidden_sizes[4], hidden_sizes[5]), nn.ReLU(),\n",
        "                      nn.Linear(hidden_sizes[5], output_size), nn.LogSoftmax(dim=1))\n",
        "\n",
        "print(model)"
      ]
    },
    {
      "cell_type": "code",
      "execution_count": null,
      "metadata": {
        "colab": {
          "base_uri": "https://localhost:8080/"
        },
        "id": "4yVJ1YWv3UrH",
        "outputId": "56739c4b-4f10-4e6e-d926-3a91e5af56df"
      },
      "outputs": [
        {
          "output_type": "stream",
          "name": "stdout",
          "text": [
            "Epoch 1 - Train loss 1.0598637405236562\n",
            "Epoch 2 - Train loss 0.9367730096181234\n",
            "Epoch 3 - Train loss 0.8273964637915293\n",
            "Epoch 4 - Train loss 0.7206229026317597\n",
            "Epoch 5 - Train loss 0.6924715076287588\n",
            "Epoch 6 - Train loss 0.6746514719327291\n",
            "Epoch 7 - Train loss 0.6181709211270014\n",
            "Epoch 8 - Train loss 0.4535990075469017\n",
            "Epoch 9 - Train loss 0.3661185954734683\n",
            "Epoch 10 - Train loss 0.33897525967409214\n",
            "Epoch 11 - Train loss 0.3158242977733413\n",
            "Epoch 12 - Train loss 0.289434227536122\n",
            "Epoch 13 - Train loss 0.2723749835056563\n",
            "Epoch 14 - Train loss 0.25002011109453937\n",
            "Epoch 15 - Train loss 0.2202224496783068\n",
            "Epoch 16 - Train loss 0.19507747099113962\n",
            "Epoch 17 - Train loss 0.1703979265652597\n",
            "Epoch 18 - Train loss 0.14372857872024178\n",
            "Epoch 19 - Train loss 0.11523345927257711\n",
            "Epoch 20 - Train loss 0.1014032395305112\n",
            "Epoch 21 - Train loss 0.07984814987199691\n",
            "Epoch 22 - Train loss 0.05724085958953947\n",
            "Epoch 23 - Train loss 0.05166244319403389\n",
            "Epoch 24 - Train loss 0.048270754103393605\n",
            "Epoch 25 - Train loss 0.02731029507397519\n",
            "Epoch 26 - Train loss 0.04077235769643448\n",
            "Epoch 27 - Train loss 0.015890621301941184\n",
            "Epoch 28 - Train loss 0.017719442691353227\n",
            "Epoch 29 - Train loss 0.03720535798329608\n",
            "Epoch 30 - Train loss 0.006410215978481574\n",
            "Epoch 31 - Train loss 0.002032315307803704\n",
            "Epoch 32 - Train loss 0.0014556574933740193\n",
            "Epoch 33 - Train loss 0.001192265580604726\n",
            "Epoch 34 - Train loss 0.0009899701505540481\n",
            "Epoch 35 - Train loss 0.0008600601550970169\n",
            "Epoch 36 - Train loss 0.0007522697895037709\n",
            "Epoch 37 - Train loss 0.0006666593956012245\n",
            "Epoch 38 - Train loss 0.0006064826952597287\n",
            "Epoch 39 - Train loss 0.0005487963433171596\n",
            "Epoch 40 - Train loss 0.0005051708836529845\n",
            "Epoch 41 - Train loss 0.000467094495078527\n",
            "Epoch 42 - Train loss 0.0004347535109856532\n",
            "Epoch 43 - Train loss 0.0004052928934420379\n",
            "Epoch 44 - Train loss 0.0003740929262637565\n",
            "Epoch 45 - Train loss 0.0003555290973722549\n",
            "Epoch 46 - Train loss 0.0003337994770584677\n",
            "Epoch 47 - Train loss 0.000315902563081598\n",
            "Epoch 48 - Train loss 0.00030044587991141233\n",
            "Epoch 49 - Train loss 0.00028431175203331803\n",
            "Epoch 50 - Train loss 0.0002726431737553033\n",
            "Epoch 51 - Train loss 0.000259892257261716\n",
            "Epoch 52 - Train loss 0.0002489695169204727\n",
            "Epoch 53 - Train loss 0.0002376569423074481\n",
            "Epoch 54 - Train loss 0.00022803588480595257\n",
            "Epoch 55 - Train loss 0.00021929876316210083\n",
            "Epoch 56 - Train loss 0.00021003751872209855\n",
            "Epoch 57 - Train loss 0.0002019525684660645\n",
            "Epoch 58 - Train loss 0.00019591655858931746\n",
            "Epoch 59 - Train loss 0.00018824086495557898\n",
            "Epoch 60 - Train loss 0.0001825970976895235\n",
            "Epoch 61 - Train loss 0.00017574092950612416\n",
            "Epoch 62 - Train loss 0.00017092946271863715\n",
            "Epoch 63 - Train loss 0.0001650658535695963\n",
            "Epoch 64 - Train loss 0.00016045880674954324\n",
            "Epoch 65 - Train loss 0.00015559657442760038\n",
            "Epoch 66 - Train loss 0.00015129601797226163\n",
            "Epoch 67 - Train loss 0.0001465536221758157\n",
            "Epoch 68 - Train loss 0.0001427406261524311\n",
            "Epoch 69 - Train loss 0.00013912517669721562\n",
            "Epoch 70 - Train loss 0.00013474375482973262\n",
            "Epoch 71 - Train loss 0.0001319635418339544\n",
            "Epoch 72 - Train loss 0.00012865927000717646\n",
            "Epoch 73 - Train loss 0.00012522871614343482\n",
            "Epoch 74 - Train loss 0.0001222329317468412\n",
            "Epoch 75 - Train loss 0.00011939129064033456\n",
            "Epoch 76 - Train loss 0.00011650642934683475\n",
            "Epoch 77 - Train loss 0.00011403750029210376\n",
            "Epoch 78 - Train loss 0.00011126169059648087\n",
            "Epoch 79 - Train loss 0.00010923360267701791\n",
            "Epoch 80 - Train loss 0.00010659836908224208\n",
            "\n",
            "Training Time (in minutes) - 172.25746787786483\n"
          ]
        }
      ],
      "source": [
        "#Train Model\n",
        "criterion = nn.NLLLoss()\n",
        "optimizer = optim.SGD(model.parameters(), lr=0.001, momentum=0.09)\n",
        "time0 = time()\n",
        "epochs = 80\n",
        "for e in range(epochs):\n",
        "  running_loss = 0\n",
        "  for images, labels in trainloader:\n",
        "    x = images.view(images.shape[0], -1)\n",
        "    optimizer.zero_grad()\n",
        "    output = model(x)\n",
        "    loss = criterion(output, labels)\n",
        "    loss.backward()\n",
        "    optimizer.step()\n",
        "    running_loss += loss.item()\n",
        "  print('Epoch {} - Train loss {}'.format(e+1, running_loss/len(trainloader)))\n",
        "print('\\nTraining Time (in minutes) - {}'.format((time()-time0)/60))"
      ]
    },
    {
      "cell_type": "code",
      "execution_count": null,
      "metadata": {
        "id": "2r7VHs9538XQ",
        "colab": {
          "base_uri": "https://localhost:8080/"
        },
        "outputId": "d8a94e26-fdd2-459a-9985-bb7cf5b418f8"
      },
      "outputs": [
        {
          "output_type": "stream",
          "name": "stdout",
          "text": [
            "torch.Size([4, 1, 150, 150])\n",
            "tensor([0, 1, 0, 0])\n"
          ]
        }
      ],
      "source": [
        "images_validation,labels_validation=next(iter(validationloader))\n",
        "print(images_validation.shape)\n",
        "print(labels_validation)"
      ]
    },
    {
      "cell_type": "code",
      "execution_count": null,
      "metadata": {
        "id": "H7Y_bdKQ4IWP",
        "colab": {
          "base_uri": "https://localhost:8080/",
          "height": 305
        },
        "outputId": "fb982917-a2d6-41e1-eb31-894d875fb75f"
      },
      "outputs": [
        {
          "output_type": "stream",
          "name": "stdout",
          "text": [
            "tensor([[5.7195e-02, 9.4272e-01, 8.3222e-05]])\n"
          ]
        },
        {
          "output_type": "display_data",
          "data": {
            "text/plain": [
              "<Figure size 432x288 with 1 Axes>"
            ],
            "image/png": "[encoded data removed]"
          },
          "metadata": {
            "needs_background": "light"
          }
        },
        {
          "output_type": "stream",
          "name": "stdout",
          "text": [
            "ANSWER: tensor(0)\n"
          ]
        }
      ],
      "source": [
        "x_validation = images_validation[1].view(1,width*width)\n",
        "\n",
        "with torch.no_grad():\n",
        "  y = model(x_validation)\n",
        "\n",
        "print(torch.exp(y))\n",
        "\n",
        "plt.imshow(images_validation[1][0], cmap='gray')\n",
        "plt.show()\n",
        "print('ANSWER:' ,labels[1])\n"
      ]
    },
    {
      "cell_type": "code",
      "execution_count": null,
      "metadata": {
        "id": "YBbaqj8cbXuv",
        "colab": {
          "base_uri": "https://localhost:8080/"
        },
        "outputId": "6474f668-2911-46b2-e97f-172e7da2e920"
      },
      "outputs": [
        {
          "output_type": "stream",
          "name": "stdout",
          "text": [
            "Number of Images validated: 1500\n",
            "True Position: 489\n",
            "True Negative: 789\n",
            "False Positives: 211\n",
            "False Negative: 11\n",
            "-------------------------------------------------------------\n",
            "Model Accuracy: 0.852\n",
            "Precision: 0.6985714285714286\n",
            "Recall: 0.978\n",
            "F1 Score: 0.8150000000000001\n"
          ]
        }
      ],
      "source": [
        "true_positives = 0\n",
        "false_positives = 0\n",
        "false_negatives = 0\n",
        "true_negatives = 0\n",
        "\n",
        "for images_validation, labels_validation in validationloader:\n",
        "  for i in range(len(labels_validation)):\n",
        "    x = images_validation[i].view(1,150*150)\n",
        "\n",
        "    with torch.no_grad():\n",
        "        log_y = model(x)\n",
        "    y = torch.exp(log_y)\n",
        "    prob = list(y.numpy()[0])\n",
        "    pred_output = prob.index(max(prob))\n",
        "\n",
        "    answer = labels_validation.numpy()[i]\n",
        "    if answer == pred_output and answer == 0:\n",
        "          true_negatives += 1\n",
        "    elif answer == pred_output and answer == 1:\n",
        "          true_positives += 1\n",
        "    elif answer != pred_output and answer == 0:\n",
        "          false_positives += 1\n",
        "    elif answer != pred_output and answer == 1:\n",
        "          false_negatives += 1\n",
        "\n",
        "precision = true_positives / (true_positives + false_positives)\n",
        "recall = true_positives / (true_positives + false_negatives)\n",
        "f1 = 2 * (precision * recall) / (precision + recall)\n",
        "\n",
        "print('Number of Images validated:', true_positives + false_positives + false_negatives + true_negatives)\n",
        "print('True Position:', true_positives)\n",
        "print('True Negative:', true_negatives)\n",
        "print('False Positives:', false_positives)\n",
        "print('False Negative:', false_negatives)\n",
        "print('-------------------------------------------------------------')\n",
        "print('Model Accuracy:', (true_positives + true_negatives) / (true_positives + false_positives + false_negatives + true_negatives))\n",
        "print('Precision:', precision)\n",
        "print('Recall:', recall)\n",
        "print('F1 Score:', f1)\n"
      ]
    },
    {
      "cell_type": "code",
      "execution_count": null,
      "metadata": {
        "id": "4sptB5q-cjc9",
        "colab": {
          "base_uri": "https://localhost:8080/"
        },
        "outputId": "b8b2ace1-eb74-4342-e402-e9b189cb79a4"
      },
      "outputs": [
        {
          "output_type": "stream",
          "name": "stdout",
          "text": [
            "Dataset ImageFolder\n",
            "    Number of datapoints: 750\n",
            "    Root location: predict-750-images/\n",
            "    StandardTransform\n",
            "Transform: Compose(\n",
            "               Resize(size=(150, 150), interpolation=bilinear, max_size=None, antialias=None)\n",
            "               Grayscale(num_output_channels=1)\n",
            "               ToTensor()\n",
            "               Normalize(mean=0.5, std=0.5)\n",
            "           )\n"
          ]
        }
      ],
      "source": [
        "predictset = torchvision.datasets.ImageFolder(root=\"predict-750-images/\", transform=tranform)\n",
        "print(predictset)"
      ]
    },
    {
      "cell_type": "code",
      "execution_count": null,
      "metadata": {
        "id": "HujnDdETcmHR",
        "colab": {
          "base_uri": "https://localhost:8080/"
        },
        "outputId": "24279b75-250b-46b8-dcc7-b8d1e7257634"
      },
      "outputs": [
        {
          "output_type": "stream",
          "name": "stdout",
          "text": [
            "<torch.utils.data.dataloader.DataLoader object at 0x7ff99e561130>\n"
          ]
        }
      ],
      "source": [
        "predictloader = torch.utils.data.DataLoader(predictset, batch_size=4, shuffle=True)\n",
        "print(predictloader)"
      ]
    },
    {
      "cell_type": "code",
      "execution_count": null,
      "metadata": {
        "id": "0939Q1SrcqIH",
        "colab": {
          "base_uri": "https://localhost:8080/"
        },
        "outputId": "1246f8eb-ac26-4eda-ea09-8631ae1008b0"
      },
      "outputs": [
        {
          "output_type": "stream",
          "name": "stdout",
          "text": [
            "torch.Size([4, 1, 150, 150])\n",
            "tensor([0, 0, 0, 0])\n"
          ]
        }
      ],
      "source": [
        "images_predict,labels_predict=next(iter(predictloader))\n",
        "print(images_predict.shape)\n",
        "print(labels_predict)"
      ]
    },
    {
      "cell_type": "code",
      "execution_count": null,
      "metadata": {
        "id": "wC9q1XLUcrbs",
        "colab": {
          "base_uri": "https://localhost:8080/",
          "height": 305
        },
        "outputId": "4aecc4e7-a5ea-4b62-d4a2-79ff2f71ba4e"
      },
      "outputs": [
        {
          "output_type": "stream",
          "name": "stdout",
          "text": [
            "tensor([[0.0866, 0.9119, 0.0014]])\n"
          ]
        },
        {
          "output_type": "display_data",
          "data": {
            "text/plain": [
              "<Figure size 432x288 with 1 Axes>"
            ],
            "image/png": "[encoded data removed]"
          },
          "metadata": {
            "needs_background": "light"
          }
        },
        {
          "output_type": "stream",
          "name": "stdout",
          "text": [
            "ANSWER: tensor(0)\n"
          ]
        }
      ],
      "source": [
        "x_predict = images_predict[1].view(1,width*width)\n",
        "\n",
        "with torch.no_grad():\n",
        "  y = model(x_predict)\n",
        "\n",
        "print(torch.exp(y))\n",
        "\n",
        "plt.imshow(images_predict[1][0], cmap='gray')\n",
        "plt.show()\n",
        "print('ANSWER:' ,labels[1])\n"
      ]
    },
    {
      "cell_type": "markdown",
      "source": [
        "# **Predict with Unseen Data**"
      ],
      "metadata": {
        "id": "2RD-NnQuVNCs"
      }
    },
    {
      "cell_type": "code",
      "execution_count": null,
      "metadata": {
        "id": "vtzYlnwIcstR",
        "colab": {
          "base_uri": "https://localhost:8080/"
        },
        "outputId": "4a601e23-a4d9-4c35-fb87-e8c6e6037f80"
      },
      "outputs": [
        {
          "output_type": "stream",
          "name": "stdout",
          "text": [
            "Number of Images Predict with Unseen Data: 750\n",
            "True Position: 0\n",
            "True Negative: 230\n",
            "False Positives: 520\n",
            "False Negative: 0\n",
            "-------------------------------------------------------------\n",
            "Model Accuracy: 0.30666666666666664\n",
            "Precision: 0.0\n",
            "Recall: 0\n",
            "F1 Score: 0\n"
          ]
        }
      ],
      "source": [
        "true_positives = 0\n",
        "false_positives = 0\n",
        "false_negatives = 0\n",
        "true_negatives = 0\n",
        "\n",
        "for images_predict, labels_predict in predictloader:\n",
        "  for i in range(len(labels_predict)):\n",
        "    x = images_predict[i].view(1,150*150)\n",
        "\n",
        "    with torch.no_grad():\n",
        "        log_y = model(x)\n",
        "    y = torch.exp(log_y)\n",
        "    prob = list(y.numpy()[0])\n",
        "    pred_output = prob.index(max(prob))\n",
        "\n",
        "    answer = labels_predict.numpy()[i]\n",
        "    if answer == pred_output and answer == 0:\n",
        "          true_negatives += 1\n",
        "    elif answer == pred_output and answer == 1:\n",
        "          true_positives += 1\n",
        "    elif answer != pred_output and answer == 0:\n",
        "          false_positives += 1\n",
        "    elif answer != pred_output and answer == 1:\n",
        "          false_negatives += 1\n",
        "\n",
        "precision = true_positives / (true_positives + false_positives)\n",
        "if (true_positives + false_negatives) == 0:\n",
        "    recall = 0\n",
        "else:\n",
        "    recall = true_positives / (true_positives + false_negatives)\n",
        "if (precision + recall) == 0:\n",
        "    f1 = 0\n",
        "else:\n",
        "    f1 = 2 * (precision * recall) / (precision + recall)\n",
        "\n",
        "print('Number of Images Predict with Unseen Data:', true_positives + false_positives + false_negatives + true_negatives)\n",
        "print('True Position:', true_positives)\n",
        "print('True Negative:', true_negatives)\n",
        "print('False Positives:', false_positives)\n",
        "print('False Negative:', false_negatives)\n",
        "print('-------------------------------------------------------------')\n",
        "print('Model Accuracy:', (true_positives + true_negatives) / (true_positives + false_positives + false_negatives + true_negatives))\n",
        "print('Precision:', precision)\n",
        "print('Recall:', recall)\n",
        "print('F1 Score:', f1)"
      ]
    },
    {
      "cell_type": "markdown",
      "source": [
        "# **Predict with Validation Data**"
      ],
      "metadata": {
        "id": "4CQ_0oNIVGAu"
      }
    },
    {
      "cell_type": "code",
      "execution_count": null,
      "metadata": {
        "id": "g1xarjsldOek",
        "colab": {
          "base_uri": "https://localhost:8080/"
        },
        "outputId": "d2311829-578c-4cd8-ed38-c6a10a260996"
      },
      "outputs": [
        {
          "output_type": "stream",
          "name": "stdout",
          "text": [
            "Number of Images validated: 1500\n",
            "True Position: 489\n",
            "True Negative: 789\n",
            "False Positives: 211\n",
            "False Negative: 11\n",
            "-------------------------------------------------------------\n",
            "Model Accuracy: 0.852\n",
            "Precision: 0.6985714285714286\n",
            "Recall: 0.978\n",
            "F1 Score: 0.8150000000000001\n"
          ]
        }
      ],
      "source": [
        "true_positives = 0\n",
        "false_positives = 0\n",
        "false_negatives = 0\n",
        "true_negatives = 0\n",
        "\n",
        "for images_validation, labels_validation in validationloader:\n",
        "  for i in range(len(labels_validation)):\n",
        "    x = images_validation[i].view(1,150*150)\n",
        "\n",
        "    with torch.no_grad():\n",
        "        log_y = model(x)\n",
        "    y = torch.exp(log_y)\n",
        "    prob = list(y.numpy()[0])\n",
        "    pred_output = prob.index(max(prob))\n",
        "\n",
        "    answer = labels_validation.numpy()[i]\n",
        "    if answer == pred_output and answer == 0:\n",
        "          true_negatives += 1\n",
        "    elif answer == pred_output and answer == 1:\n",
        "          true_positives += 1\n",
        "    elif answer != pred_output and answer == 0:\n",
        "          false_positives += 1\n",
        "    elif answer != pred_output and answer == 1:\n",
        "          false_negatives += 1\n",
        "\n",
        "precision = true_positives / (true_positives + false_positives)\n",
        "recall = true_positives / (true_positives + false_negatives)\n",
        "f1 = 2 * (precision * recall) / (precision + recall)\n",
        "\n",
        "print('Number of Images validated:', true_positives + false_positives + false_negatives + true_negatives)\n",
        "print('True Position:', true_positives)\n",
        "print('True Negative:', true_negatives)\n",
        "print('False Positives:', false_positives)\n",
        "print('False Negative:', false_negatives)\n",
        "print('-------------------------------------------------------------')\n",
        "print('Model Accuracy:', (true_positives + true_negatives) / (true_positives + false_positives + false_negatives + true_negatives))\n",
        "print('Precision:', precision)\n",
        "print('Recall:', recall)\n",
        "print('F1 Score:', f1)\n"
      ]
    }
  ],
  "metadata": {
    "accelerator": "GPU",
    "colab": {
      "machine_shape": "hm",
      "provenance": [],
      "include_colab_link": true
    },
    "gpuClass": "standard",
    "kernelspec": {
      "display_name": "Python 3",
      "name": "python3"
    },
    "language_info": {
      "name": "python"
    }
  },
  "nbformat": 4,
  "nbformat_minor": 0
}