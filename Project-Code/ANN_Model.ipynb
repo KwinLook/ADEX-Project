{
  "nbformat": 4,
  "nbformat_minor": 0,
  "metadata": {
    "colab": {
      "provenance": [],
      "authorship_tag": "ABX9TyN/jGtLUqtK5/BojRMRvVfG",
      "include_colab_link": true
    },
    "kernelspec": {
      "name": "python3",
      "display_name": "Python 3"
    },
    "language_info": {
      "name": "python"
    }
  },
  "cells": [
    {
      "cell_type": "markdown",
      "metadata": {
        "id": "view-in-github",
        "colab_type": "text"
      },
      "source": [
        "<a href=\"https://colab.research.google.com/github/KwinLook/ADEX-Project/blob/main/ANN.ipynb\" target=\"_parent\"><img src=\"https://colab.research.google.com/assets/colab-badge.svg\" alt=\"Open In Colab\"/></a>"
      ]
    },
    {
      "cell_type": "code",
      "execution_count": null,
      "metadata": {
        "id": "Fys1chJXcuXI"
      },
      "outputs": [],
      "source": [
        "import numpy as np\n",
        "import matplotlib.pyplot as plt\n",
        "import torch\n",
        "import torchvision\n",
        "from trouchvision import datasets,tranforms\n",
        "from torch import nn,optim\n",
        "from time import time"
      ]
    },
    {
      "cell_type": "code",
      "source": [
        "size=(20,20)\n",
        "\n",
        "tranform= transforms.Compose([transforms.Resize(size),\n",
        "                              transforms.Grayscale(num_output_channels=1),\n",
        "                              transforms.ToTensor(),\n",
        "                              transforms.Normalize((0.5),(0.5))])"
      ],
      "metadata": {
        "id": "rskklrQT0jqd"
      },
      "execution_count": null,
      "outputs": []
    },
    {
      "cell_type": "code",
      "source": [
        "trainset=dataset.ImageFolder('' ,transform=tranform)\n",
        "print(trainset)"
      ],
      "metadata": {
        "id": "1YDOtA0r1PWh"
      },
      "execution_count": null,
      "outputs": []
    },
    {
      "cell_type": "code",
      "source": [
        "testset=dataset.ImageFolder('' ,transform=tranform)\n",
        "print(testset)"
      ],
      "metadata": {
        "id": "fZvMGkxA1kYP"
      },
      "execution_count": null,
      "outputs": []
    },
    {
      "cell_type": "code",
      "source": [
        "trainloader=torch.utilsdata.DataLoader(trainset,batch_size=4,shuffle=True)\n",
        "print(trainloader)"
      ],
      "metadata": {
        "id": "0EOMipI_1rZV"
      },
      "execution_count": null,
      "outputs": []
    },
    {
      "cell_type": "code",
      "source": [
        "testloader=torch.utilsdata.DataLoader(testset,batch_size=4,shuffle=True)\n",
        "print(testloader)"
      ],
      "metadata": {
        "id": "LSTIIiXV9Hi3"
      },
      "execution_count": null,
      "outputs": []
    },
    {
      "cell_type": "code",
      "source": [
        "images,labels=next(iter(trainloader))"
      ],
      "metadata": {
        "id": "_HrWHUNn9OuY"
      },
      "execution_count": null,
      "outputs": []
    },
    {
      "cell_type": "code",
      "source": [
        "print(images.shape)\n",
        "print(labels.shape)\n",
        "print(labels)"
      ],
      "metadata": {
        "id": "pWbGn6899dA0"
      },
      "execution_count": null,
      "outputs": []
    },
    {
      "cell_type": "code",
      "source": [
        "plt.imshow(images[2][0],cmap='gray')\n",
        "plt.show()\n",
        "print('Answer:',labels[2])"
      ],
      "metadata": {
        "id": "ekBFG65B9rEW"
      },
      "execution_count": null,
      "outputs": []
    },
    {
      "cell_type": "code",
      "source": [
        "#Create ANN Model\n",
        "input_size = 20*20*1\n",
        "hidden_sizes = [1890,1350,810,270,135,60]\n",
        "output_size = 3\n",
        "\n",
        "model = nn.Sequential(nn.Linear(input_size, hidden_sizes[0]), nn.ReLU(),\n",
        "                      nn.Linear(hidden_sizes[0], hidden_sizes[1]), nn.ReLU(),\n",
        "                      nn.Linear(hidden_sizes[1], hidden_sizes[2]), nn.ReLU(),\n",
        "                      nn.Linear(hidden_sizes[2], hidden_sizes[3]), nn.ReLU(),\n",
        "                      nn.Linear(hidden_sizes[3], hidden_sizes[4]), nn.ReLU(),\n",
        "                      nn.Linear(hidden_sizes[4], hidden_sizes[5]), nn.ReLU(),\n",
        "                      nn.Linear(hidden_sizes[5], output_size), nn.LogSoftmax(dim=1))\n",
        "\n",
        "print(model)"
      ],
      "metadata": {
        "id": "S3y8FGZa-Bpd"
      },
      "execution_count": null,
      "outputs": []
    },
    {
      "cell_type": "code",
      "source": [
        "#Train Model\n",
        "criterion = nn.NLLLoss()\n",
        "optimizer = optim.SGD(model.parameters(),lr=0.001,momentum=0.09)\n",
        "time0 = time()\n",
        "epochs = 250\n",
        "for e in range(epochs):\n",
        "  running_loss = 0\n",
        "  for images, labels in trainloader:\n",
        "    x = images.view(images.shape[0],-1)\n",
        "    optimizer.zero_grad()\n",
        "    output = model( x )\n",
        "    loss = criterion(output,labels)\n",
        "    loss.backward()\n",
        "    optimizer.step()\n",
        "    running_loss += loss.item()\n",
        "  print('Epoch {} - Train loss {}'.format(e+1,running_loss/len( trainloader )))\n",
        "print('\\nTraining Time (in minutes )-'),(time()-time0)/60)"
      ],
      "metadata": {
        "id": "7wC0S27HNvPw"
      },
      "execution_count": null,
      "outputs": []
    },
    {
      "cell_type": "code",
      "source": [
        "images_test,labels_test=next(iter(testloader))\n",
        "print(images_test.shape)\n",
        "print(label_test)"
      ],
      "metadata": {
        "id": "_xKEb4sHSker"
      },
      "execution_count": null,
      "outputs": []
    },
    {
      "cell_type": "code",
      "source": [
        "x_test = images_test[1].view(1,20*20)\n",
        "\n",
        "with torch.no_grad():\n",
        "  y = model(x_test)\n",
        "\n",
        "print(torch.exp(y))\n",
        "\n",
        "plt.imshow(images_test[1][0],camp='gray')\n",
        "plt.show()\n",
        "print('ANSWER:' ,label[1])"
      ],
      "metadata": {
        "id": "DBOclcHkS7vz"
      },
      "execution_count": null,
      "outputs": []
    },
    {
      "cell_type": "code",
      "source": [
        "correct_count = 0\n",
        "all_count = 0\n",
        "for images_test, labels_test in testloader:\n",
        "  for i in range(len(labels_test)):\n",
        "    x = images_test[i].view(1,20*20)\n",
        "\n",
        "    with torch.no_grad():\n",
        "        log_y = model(x)\n",
        "    y = torch.exp(log_y)\n",
        "    prob = list(y.numpy()[0])\n",
        "    pred_output = prob.index(max(prob))\n",
        "\n",
        "    answer = label_test.numpy()[i]\n",
        "    if answer == pred_output:\n",
        "          corret_count += 1\n",
        "    all_count += 1\n",
        "\n",
        "print('Number of Image tested -',all_count)\n",
        "print('\\nModel Accuracy -',correct_count/all_count)"
      ],
      "metadata": {
        "id": "8zp_acVAULAv"
      },
      "execution_count": null,
      "outputs": []
    }
  ]
}