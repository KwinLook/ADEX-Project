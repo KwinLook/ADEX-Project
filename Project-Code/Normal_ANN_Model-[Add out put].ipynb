{
  "nbformat": 4,
  "nbformat_minor": 0,
  "metadata": {
    "colab": {
      "provenance": [],
      "machine_shape": "hm",
      "authorship_tag": "ABX9TyOMmIYbTYRleL/AksX9jqcb",
      "include_colab_link": true
    },
    "kernelspec": {
      "name": "python3",
      "display_name": "Python 3"
    },
    "language_info": {
      "name": "python"
    },
    "accelerator": "GPU",
    "gpuClass": "standard"
  },
  "cells": [
    {
      "cell_type": "markdown",
      "metadata": {
        "id": "view-in-github",
        "colab_type": "text"
      },
      "source": [
        "<a href=\"https://colab.research.google.com/github/KwinLook/ADEX-Project/blob/main/Project-Code/Normal_ANN_Model-%5BAdd%20out%20put%5D.ipynb\" target=\"_parent\"><img src=\"https://colab.research.google.com/assets/colab-badge.svg\" alt=\"Open In Colab\"/></a>"
      ]
    },
    {
      "cell_type": "code",
      "source": [
        "# from google.colab import drive\n",
        "# drive.mount('/content/drive')\n",
        "# ----------------------------------------------\n",
        "\n",
        "!unzip --qq dataset-training-3000-images.zip\n",
        "!unzip --qq dataset-predict-750-images.zip"
      ],
      "metadata": {
        "id": "r6nYz6njwCsK"
      },
      "execution_count": 1,
      "outputs": []
    },
    {
      "cell_type": "code",
      "execution_count": 2,
      "metadata": {
        "id": "Fys1chJXcuXI"
      },
      "outputs": [],
      "source": [
        "import numpy as np\n",
        "import matplotlib.pyplot as plt\n",
        "import torch\n",
        "import torch.utils.data as data\n",
        "import torchvision\n",
        "from torchvision import datasets, transforms\n",
        "from torch import nn,optim\n",
        "from time import time"
      ]
    },
    {
      "cell_type": "code",
      "source": [
        "width = 150\n",
        "size=(width,width)\n",
        "\n",
        "tranform = transforms.Compose([transforms.Resize(size),\n",
        "                              transforms.Grayscale(num_output_channels=1),\n",
        "                              transforms.ToTensor(),\n",
        "                              transforms.Normalize((0.5),(0.5))])"
      ],
      "metadata": {
        "id": "rskklrQT0jqd"
      },
      "execution_count": 3,
      "outputs": []
    },
    {
      "cell_type": "code",
      "source": [
        "trainset = torchvision.datasets.ImageFolder(root=\"train/\", transform=tranform)\n",
        "print(trainset)"
      ],
      "metadata": {
        "id": "1YDOtA0r1PWh",
        "colab": {
          "base_uri": "https://localhost:8080/"
        },
        "outputId": "80746be9-7f72-49ff-8332-c3c0a2b178c8"
      },
      "execution_count": 4,
      "outputs": [
        {
          "output_type": "stream",
          "name": "stdout",
          "text": [
            "Dataset ImageFolder\n",
            "    Number of datapoints: 3000\n",
            "    Root location: train/\n",
            "    StandardTransform\n",
            "Transform: Compose(\n",
            "               Resize(size=(150, 150), interpolation=bilinear, max_size=None, antialias=None)\n",
            "               Grayscale(num_output_channels=1)\n",
            "               ToTensor()\n",
            "               Normalize(mean=0.5, std=0.5)\n",
            "           )\n"
          ]
        }
      ]
    },
    {
      "cell_type": "code",
      "source": [
        "validationset = torchvision.datasets.ImageFolder(root=\"validation/\", transform=tranform)\n",
        "print(validationset)"
      ],
      "metadata": {
        "id": "fZvMGkxA1kYP",
        "colab": {
          "base_uri": "https://localhost:8080/"
        },
        "outputId": "2a3c3671-ab45-42f5-a530-9ec0a98d6310"
      },
      "execution_count": 5,
      "outputs": [
        {
          "output_type": "stream",
          "name": "stdout",
          "text": [
            "Dataset ImageFolder\n",
            "    Number of datapoints: 1500\n",
            "    Root location: validation/\n",
            "    StandardTransform\n",
            "Transform: Compose(\n",
            "               Resize(size=(150, 150), interpolation=bilinear, max_size=None, antialias=None)\n",
            "               Grayscale(num_output_channels=1)\n",
            "               ToTensor()\n",
            "               Normalize(mean=0.5, std=0.5)\n",
            "           )\n"
          ]
        }
      ]
    },
    {
      "cell_type": "code",
      "source": [
        "trainloader = torch.utils.data.DataLoader(trainset, batch_size=4, shuffle=True)\n",
        "print(trainloader)"
      ],
      "metadata": {
        "colab": {
          "base_uri": "https://localhost:8080/"
        },
        "id": "h7di8tskwcIp",
        "outputId": "0d55fb19-01dd-4a72-b1fd-74b8d6e1745e"
      },
      "execution_count": 6,
      "outputs": [
        {
          "output_type": "stream",
          "name": "stdout",
          "text": [
            "<torch.utils.data.dataloader.DataLoader object at 0x7f30cbe38b50>\n"
          ]
        }
      ]
    },
    {
      "cell_type": "code",
      "source": [
        "validationloader = torch.utils.data.DataLoader(validationset, batch_size=4, shuffle=True)\n",
        "print(validationloader)"
      ],
      "metadata": {
        "colab": {
          "base_uri": "https://localhost:8080/"
        },
        "id": "TvdQKsrZwdry",
        "outputId": "7d2b58f9-7b9f-4acc-ecdb-62fb513e0906"
      },
      "execution_count": 7,
      "outputs": [
        {
          "output_type": "stream",
          "name": "stdout",
          "text": [
            "<torch.utils.data.dataloader.DataLoader object at 0x7f30cbe38970>\n"
          ]
        }
      ]
    },
    {
      "cell_type": "code",
      "source": [
        "images, labels = next(iter(trainloader))"
      ],
      "metadata": {
        "id": "ZgKjGaH9wfjh"
      },
      "execution_count": 8,
      "outputs": []
    },
    {
      "cell_type": "code",
      "source": [
        "print(images.shape)\n",
        "print(labels.shape)\n",
        "print(labels)"
      ],
      "metadata": {
        "colab": {
          "base_uri": "https://localhost:8080/"
        },
        "id": "JSsMWjnmwhHk",
        "outputId": "35a53952-ff27-4069-9c37-15862e67be9b"
      },
      "execution_count": 9,
      "outputs": [
        {
          "output_type": "stream",
          "name": "stdout",
          "text": [
            "torch.Size([4, 1, 150, 150])\n",
            "torch.Size([4])\n",
            "tensor([0, 0, 0, 0])\n"
          ]
        }
      ]
    },
    {
      "cell_type": "code",
      "source": [
        "# plt.imshow(images[2][0],cmap='gray')\n",
        "# plt.show()\n",
        "# print('Answer:',labels[2])"
      ],
      "metadata": {
        "id": "L5ix4ur9wiko"
      },
      "execution_count": 10,
      "outputs": []
    },
    {
      "cell_type": "code",
      "source": [
        "#Create ANN Model\n",
        "input_size = width*width*1\n",
        "hidden_sizes = [1890,1350,810,270,135,60]\n",
        "output_size = 3\n",
        "\n",
        "model = nn.Sequential(nn.Linear(input_size, hidden_sizes[0]), nn.ReLU(),\n",
        "                      nn.Linear(hidden_sizes[0], hidden_sizes[1]), nn.ReLU(),\n",
        "                      nn.Linear(hidden_sizes[1], hidden_sizes[2]), nn.ReLU(),\n",
        "                      nn.Linear(hidden_sizes[2], hidden_sizes[3]), nn.ReLU(),\n",
        "                      nn.Linear(hidden_sizes[3], hidden_sizes[4]), nn.ReLU(),\n",
        "                      nn.Linear(hidden_sizes[4], hidden_sizes[5]), nn.ReLU(),\n",
        "                      nn.Linear(hidden_sizes[5], output_size), nn.LogSoftmax(dim=1))\n",
        "\n",
        "print(model)"
      ],
      "metadata": {
        "colab": {
          "base_uri": "https://localhost:8080/"
        },
        "id": "ZehPdXGm3PfH",
        "outputId": "c7b0f2ce-2261-4d54-a7c8-3b0924132e05"
      },
      "execution_count": 11,
      "outputs": [
        {
          "output_type": "stream",
          "name": "stdout",
          "text": [
            "Sequential(\n",
            "  (0): Linear(in_features=22500, out_features=1890, bias=True)\n",
            "  (1): ReLU()\n",
            "  (2): Linear(in_features=1890, out_features=1350, bias=True)\n",
            "  (3): ReLU()\n",
            "  (4): Linear(in_features=1350, out_features=810, bias=True)\n",
            "  (5): ReLU()\n",
            "  (6): Linear(in_features=810, out_features=270, bias=True)\n",
            "  (7): ReLU()\n",
            "  (8): Linear(in_features=270, out_features=135, bias=True)\n",
            "  (9): ReLU()\n",
            "  (10): Linear(in_features=135, out_features=60, bias=True)\n",
            "  (11): ReLU()\n",
            "  (12): Linear(in_features=60, out_features=3, bias=True)\n",
            "  (13): LogSoftmax(dim=1)\n",
            ")\n"
          ]
        }
      ]
    },
    {
      "cell_type": "code",
      "source": [
        "#Train Model\n",
        "criterion = nn.NLLLoss()\n",
        "optimizer = optim.SGD(model.parameters(), lr=0.001, momentum=0.09)\n",
        "time0 = time()\n",
        "epochs = 100\n",
        "for e in range(epochs):\n",
        "  running_loss = 0\n",
        "  for images, labels in trainloader:\n",
        "    x = images.view(images.shape[0], -1)\n",
        "    optimizer.zero_grad()\n",
        "    output = model(x)\n",
        "    loss = criterion(output, labels)\n",
        "    loss.backward()\n",
        "    optimizer.step()\n",
        "    running_loss += loss.item()\n",
        "  print('Epoch {} - Train loss {}'.format(e+1, running_loss/len(trainloader)))\n",
        "print('\\nTraining Time (in minutes) - {}'.format((time()-time0)/60))"
      ],
      "metadata": {
        "colab": {
          "base_uri": "https://localhost:8080/"
        },
        "id": "4yVJ1YWv3UrH",
        "outputId": "4668add6-dff1-44c8-db1a-b2df59e803d0"
      },
      "execution_count": 12,
      "outputs": [
        {
          "output_type": "stream",
          "name": "stdout",
          "text": [
            "Epoch 1 - Train loss 1.019703668753306\n",
            "Epoch 2 - Train loss 0.9221441484292349\n",
            "Epoch 3 - Train loss 0.8482820113499959\n",
            "Epoch 4 - Train loss 0.7622207926909129\n",
            "Epoch 5 - Train loss 0.7014349205493927\n",
            "Epoch 6 - Train loss 0.6723555851777394\n",
            "Epoch 7 - Train loss 0.5876376616160075\n",
            "Epoch 8 - Train loss 0.4177634319812059\n",
            "Epoch 9 - Train loss 0.35347272143512964\n",
            "Epoch 10 - Train loss 0.3299397720520695\n",
            "Epoch 11 - Train loss 0.3040080172556142\n",
            "Epoch 12 - Train loss 0.28361392274871466\n",
            "Epoch 13 - Train loss 0.2600558982379734\n",
            "Epoch 14 - Train loss 0.24345058897944788\n",
            "Epoch 15 - Train loss 0.209129151477168\n",
            "Epoch 16 - Train loss 0.1872472640182823\n",
            "Epoch 17 - Train loss 0.15809300244723756\n",
            "Epoch 18 - Train loss 0.13667733711594096\n",
            "Epoch 19 - Train loss 0.11406298721348866\n",
            "Epoch 20 - Train loss 0.09661520393767084\n",
            "Epoch 21 - Train loss 0.07928611932644465\n",
            "Epoch 22 - Train loss 0.07046818739858766\n",
            "Epoch 23 - Train loss 0.043717647658661006\n",
            "Epoch 24 - Train loss 0.05699769182569192\n",
            "Epoch 25 - Train loss 0.03273472151090391\n",
            "Epoch 26 - Train loss 0.019427001537386482\n",
            "Epoch 27 - Train loss 0.012179017607986073\n",
            "Epoch 28 - Train loss 0.0030723378901505688\n",
            "Epoch 29 - Train loss 0.0019989772411063314\n",
            "Epoch 30 - Train loss 0.0015651404674184354\n",
            "Epoch 31 - Train loss 0.0013182010302928877\n",
            "Epoch 32 - Train loss 0.0010898071227438777\n",
            "Epoch 33 - Train loss 0.0009343556660193523\n",
            "Epoch 34 - Train loss 0.0008296236326544507\n",
            "Epoch 35 - Train loss 0.0007407036093391071\n",
            "Epoch 36 - Train loss 0.0006718039741582894\n",
            "Epoch 37 - Train loss 0.0006124295983931916\n",
            "Epoch 38 - Train loss 0.0005580544174238185\n",
            "Epoch 39 - Train loss 0.000515199368679229\n",
            "Epoch 40 - Train loss 0.0004700382385553894\n",
            "Epoch 41 - Train loss 0.0004448630704375015\n",
            "Epoch 42 - Train loss 0.0004146733772218643\n",
            "Epoch 43 - Train loss 0.00039046189220289304\n",
            "Epoch 44 - Train loss 0.0003652213737780888\n",
            "Epoch 45 - Train loss 0.00034123251402684216\n",
            "Epoch 46 - Train loss 0.0003263965221260226\n",
            "Epoch 47 - Train loss 0.00031041202427506203\n",
            "Epoch 48 - Train loss 0.0002957855649469063\n",
            "Epoch 49 - Train loss 0.0002806245453448355\n",
            "Epoch 50 - Train loss 0.0002673209453594912\n",
            "Epoch 51 - Train loss 0.00025347242624900444\n",
            "Epoch 52 - Train loss 0.00024396424440631867\n",
            "Epoch 53 - Train loss 0.00023558849495884714\n",
            "Epoch 54 - Train loss 0.00022479509340712412\n",
            "Epoch 55 - Train loss 0.0002176437917165496\n",
            "Epoch 56 - Train loss 0.00021018921661601552\n",
            "Epoch 57 - Train loss 0.00020150742429170048\n",
            "Epoch 58 - Train loss 0.00019351264364841114\n",
            "Epoch 59 - Train loss 0.00018933693609866017\n",
            "Epoch 60 - Train loss 0.00018151523143349854\n",
            "Epoch 61 - Train loss 0.0001763050534830768\n",
            "Epoch 62 - Train loss 0.00017097364240157732\n",
            "Epoch 63 - Train loss 0.00016545777074975377\n",
            "Epoch 64 - Train loss 0.000160080104241293\n",
            "Epoch 65 - Train loss 0.00015575765374023831\n",
            "Epoch 66 - Train loss 0.00015143147252066078\n",
            "Epoch 67 - Train loss 0.0001473894459606129\n",
            "Epoch 68 - Train loss 0.00014273650228306185\n",
            "Epoch 69 - Train loss 0.00013940058948132142\n",
            "Epoch 70 - Train loss 0.00013560945553637774\n",
            "Epoch 71 - Train loss 0.00013182153151382182\n",
            "Epoch 72 - Train loss 0.00012872482649613914\n",
            "Epoch 73 - Train loss 0.00012557173717904865\n",
            "Epoch 74 - Train loss 0.00012250822105861422\n",
            "Epoch 75 - Train loss 0.00012001191035505107\n",
            "Epoch 76 - Train loss 0.00011704927773953007\n",
            "Epoch 77 - Train loss 0.00011377667768046252\n",
            "Epoch 78 - Train loss 0.00011216646109168001\n",
            "Epoch 79 - Train loss 0.00010955928618402785\n",
            "Epoch 80 - Train loss 0.00010648211819695064\n",
            "Epoch 81 - Train loss 0.00010510745523838001\n",
            "Epoch 82 - Train loss 0.00010289841682718285\n",
            "Epoch 83 - Train loss 0.0001007931941521818\n",
            "Epoch 84 - Train loss 9.85171576157479e-05\n",
            "Epoch 85 - Train loss 9.639223382134787e-05\n",
            "Epoch 86 - Train loss 9.412927316896476e-05\n",
            "Epoch 87 - Train loss 9.327151608132548e-05\n",
            "Epoch 88 - Train loss 9.138380933336284e-05\n",
            "Epoch 89 - Train loss 8.968430695020876e-05\n",
            "Epoch 90 - Train loss 8.797869508162156e-05\n",
            "Epoch 91 - Train loss 8.605580407304576e-05\n",
            "Epoch 92 - Train loss 8.494931370625144e-05\n",
            "Epoch 93 - Train loss 8.33895839769146e-05\n",
            "Epoch 94 - Train loss 8.200798001188285e-05\n",
            "Epoch 95 - Train loss 8.066785923321144e-05\n",
            "Epoch 96 - Train loss 7.901521983994067e-05\n",
            "Epoch 97 - Train loss 7.791963118672384e-05\n",
            "Epoch 98 - Train loss 7.677919223715435e-05\n",
            "Epoch 99 - Train loss 7.54212510939567e-05\n",
            "Epoch 100 - Train loss 7.425812070051544e-05\n",
            "\n",
            "Training Time (in minutes) - 199.19204865694047\n"
          ]
        }
      ]
    },
    {
      "cell_type": "code",
      "source": [
        "images_validation,labels_validation=next(iter(validationloader))\n",
        "print(images_validation.shape)\n",
        "print(labels_validation)"
      ],
      "metadata": {
        "colab": {
          "base_uri": "https://localhost:8080/"
        },
        "id": "2r7VHs9538XQ",
        "outputId": "a5fb565c-218b-4fd4-c810-f3fa288e0970"
      },
      "execution_count": 13,
      "outputs": [
        {
          "output_type": "stream",
          "name": "stdout",
          "text": [
            "torch.Size([4, 1, 150, 150])\n",
            "tensor([0, 0, 0, 0])\n"
          ]
        }
      ]
    },
    {
      "cell_type": "code",
      "source": [
        "x_validation = images_validation[1].view(1,width*width)\n",
        "\n",
        "with torch.no_grad():\n",
        "  y = model(x_validation)\n",
        "\n",
        "print(torch.exp(y))\n",
        "\n",
        "plt.imshow(images_validation[1][0], cmap='gray')\n",
        "plt.show()\n",
        "print('ANSWER:' ,labels[1])\n"
      ],
      "metadata": {
        "colab": {
          "base_uri": "https://localhost:8080/",
          "height": 305
        },
        "id": "H7Y_bdKQ4IWP",
        "outputId": "13fd17be-8cf0-4d04-8c06-e4a2773a5d21"
      },
      "execution_count": 14,
      "outputs": [
        {
          "output_type": "stream",
          "name": "stdout",
          "text": [
            "tensor([[9.9998e-01, 1.5799e-05, 3.3321e-06]])\n"
          ]
        },
        {
          "output_type": "display_data",
          "data": {
            "text/plain": [
              "<Figure size 432x288 with 1 Axes>"
            ],
            "image/png": "[encoded data removed]"
          },
          "metadata": {
            "needs_background": "light"
          }
        },
        {
          "output_type": "stream",
          "name": "stdout",
          "text": [
            "ANSWER: tensor(0)\n"
          ]
        }
      ]
    },
    {
      "cell_type": "code",
      "source": [
        "true_positives = 0\n",
        "false_positives = 0\n",
        "false_negatives = 0\n",
        "true_negatives = 0\n",
        "\n",
        "for images_validation, labels_validation in validationloader:\n",
        "  for i in range(len(labels_validation)):\n",
        "    x = images_validation[i].view(1,150*150)\n",
        "\n",
        "    with torch.no_grad():\n",
        "        log_y = model(x)\n",
        "    y = torch.exp(log_y)\n",
        "    prob = list(y.numpy()[0])\n",
        "    pred_output = prob.index(max(prob))\n",
        "\n",
        "    answer = labels_validation.numpy()[i]\n",
        "    if answer == pred_output and answer == 0:\n",
        "          true_negatives += 1\n",
        "    elif answer == pred_output and answer == 1:\n",
        "          true_positives += 1\n",
        "    elif answer != pred_output and answer == 0:\n",
        "          false_positives += 1\n",
        "    elif answer != pred_output and answer == 1:\n",
        "          false_negatives += 1\n",
        "\n",
        "precision = true_positives / (true_positives + false_positives)\n",
        "recall = true_positives / (true_positives + false_negatives)\n",
        "f1 = 2 * (precision * recall) / (precision + recall)\n",
        "\n",
        "print('Number of Images validated:', true_positives + false_positives + false_negatives + true_negatives)\n",
        "print('True Position:', true_positives)\n",
        "print('True Negative:', true_negatives)\n",
        "print('False Positives:', false_positives)\n",
        "print('False Negative:', false_negatives)\n",
        "print('-------------------------------------------------------------')\n",
        "print('Model Accuracy:', (true_positives + true_negatives) / (true_positives + false_positives + false_negatives + true_negatives))\n",
        "print('Precision:', precision)\n",
        "print('Recall:', recall)\n",
        "print('F1 Score:', f1)\n"
      ],
      "metadata": {
        "colab": {
          "base_uri": "https://localhost:8080/"
        },
        "id": "YBbaqj8cbXuv",
        "outputId": "ca164207-9647-4223-db70-e4b0db474101"
      },
      "execution_count": 15,
      "outputs": [
        {
          "output_type": "stream",
          "name": "stdout",
          "text": [
            "Number of Images validated: 1500\n",
            "True Position: 490\n",
            "True Negative: 792\n",
            "False Positives: 208\n",
            "False Negative: 10\n",
            "-------------------------------------------------------------\n",
            "Model Accuracy: 0.8546666666666667\n",
            "Precision: 0.7020057306590258\n",
            "Recall: 0.98\n",
            "F1 Score: 0.8180300500834724\n"
          ]
        }
      ]
    },
    {
      "cell_type": "markdown",
      "source": [
        "**Prediction With Unseen Data**"
      ],
      "metadata": {
        "id": "NPhsxiGOceZT"
      }
    },
    {
      "cell_type": "code",
      "source": [
        "predictset = torchvision.datasets.ImageFolder(root=\"predict-750-images/\", transform=tranform)\n",
        "print(predictset)"
      ],
      "metadata": {
        "colab": {
          "base_uri": "https://localhost:8080/"
        },
        "id": "4sptB5q-cjc9",
        "outputId": "51e48879-e319-4f94-cf0c-6926cb2e22fb"
      },
      "execution_count": 16,
      "outputs": [
        {
          "output_type": "stream",
          "name": "stdout",
          "text": [
            "Dataset ImageFolder\n",
            "    Number of datapoints: 750\n",
            "    Root location: predict-750-images/\n",
            "    StandardTransform\n",
            "Transform: Compose(\n",
            "               Resize(size=(150, 150), interpolation=bilinear, max_size=None, antialias=None)\n",
            "               Grayscale(num_output_channels=1)\n",
            "               ToTensor()\n",
            "               Normalize(mean=0.5, std=0.5)\n",
            "           )\n"
          ]
        }
      ]
    },
    {
      "cell_type": "code",
      "source": [
        "predictloader = torch.utils.data.DataLoader(predictset, batch_size=4, shuffle=True)\n",
        "print(predictloader)"
      ],
      "metadata": {
        "colab": {
          "base_uri": "https://localhost:8080/"
        },
        "id": "HujnDdETcmHR",
        "outputId": "f54823bc-10fc-433d-ddac-6b6dcf783d40"
      },
      "execution_count": 17,
      "outputs": [
        {
          "output_type": "stream",
          "name": "stdout",
          "text": [
            "<torch.utils.data.dataloader.DataLoader object at 0x7f30b805d040>\n"
          ]
        }
      ]
    },
    {
      "cell_type": "code",
      "source": [
        "images_predict,labels_predict=next(iter(predictloader))\n",
        "print(images_predict.shape)\n",
        "print(labels_predict)"
      ],
      "metadata": {
        "colab": {
          "base_uri": "https://localhost:8080/"
        },
        "id": "0939Q1SrcqIH",
        "outputId": "160f9a4e-37a2-42f6-c8ba-4a01ca89cc84"
      },
      "execution_count": 18,
      "outputs": [
        {
          "output_type": "stream",
          "name": "stdout",
          "text": [
            "torch.Size([4, 1, 150, 150])\n",
            "tensor([0, 0, 0, 0])\n"
          ]
        }
      ]
    },
    {
      "cell_type": "code",
      "source": [
        "x_predict = images_predict[1].view(1,width*width)\n",
        "\n",
        "with torch.no_grad():\n",
        "  y = model(x_predict)\n",
        "\n",
        "print(torch.exp(y))\n",
        "\n",
        "plt.imshow(images_predict[1][0], cmap='gray')\n",
        "plt.show()\n",
        "print('ANSWER:' ,labels[1])\n"
      ],
      "metadata": {
        "colab": {
          "base_uri": "https://localhost:8080/",
          "height": 305
        },
        "id": "wC9q1XLUcrbs",
        "outputId": "c251dc54-9bbc-4f5e-d33b-a9295c553c57"
      },
      "execution_count": 19,
      "outputs": [
        {
          "output_type": "stream",
          "name": "stdout",
          "text": [
            "tensor([[0.9377, 0.0472, 0.0151]])\n"
          ]
        },
        {
          "output_type": "display_data",
          "data": {
            "text/plain": [
              "<Figure size 432x288 with 1 Axes>"
            ],
            "image/png": "[encoded data removed]"
          },
          "metadata": {
            "needs_background": "light"
          }
        },
        {
          "output_type": "stream",
          "name": "stdout",
          "text": [
            "ANSWER: tensor(0)\n"
          ]
        }
      ]
    },
    {
      "cell_type": "code",
      "source": [
        "true_positives = 0\n",
        "false_positives = 0\n",
        "false_negatives = 0\n",
        "true_negatives = 0\n",
        "\n",
        "for images_predict, labels_predict in predictloader:\n",
        "  for i in range(len(labels_predict)):\n",
        "    x = images_predict[i].view(1,150*150)\n",
        "\n",
        "    with torch.no_grad():\n",
        "        log_y = model(x)\n",
        "    y = torch.exp(log_y)\n",
        "    prob = list(y.numpy()[0])\n",
        "    pred_output = prob.index(max(prob))\n",
        "\n",
        "    answer = labels_predict.numpy()[i]\n",
        "    if answer == pred_output and answer == 0:\n",
        "          true_negatives += 1\n",
        "    elif answer == pred_output and answer == 1:\n",
        "          true_positives += 1\n",
        "    elif answer != pred_output and answer == 0:\n",
        "          false_positives += 1\n",
        "    elif answer != pred_output and answer == 1:\n",
        "          false_negatives += 1\n",
        "\n",
        "precision = true_positives / (true_positives + false_positives)\n",
        "if (true_positives + false_negatives) == 0:\n",
        "    recall = 0\n",
        "else:\n",
        "    recall = true_positives / (true_positives + false_negatives)\n",
        "if (precision + recall) == 0:\n",
        "    f1 = 0\n",
        "else:\n",
        "    f1 = 2 * (precision * recall) / (precision + recall)\n",
        "\n",
        "print('Number of Images Predict with Unseen Data:', true_positives + false_positives + false_negatives + true_negatives)\n",
        "print('True Position:', true_positives)\n",
        "print('True Negative:', true_negatives)\n",
        "print('False Positives:', false_positives)\n",
        "print('False Negative:', false_negatives)\n",
        "print('-------------------------------------------------------------')\n",
        "print('Model Accuracy:', (true_positives + true_negatives) / (true_positives + false_positives + false_negatives + true_negatives))\n",
        "print('Precision:', precision)\n",
        "print('Recall:', recall)\n",
        "print('F1 Score:', f1)"
      ],
      "metadata": {
        "colab": {
          "base_uri": "https://localhost:8080/"
        },
        "id": "vtzYlnwIcstR",
        "outputId": "974ad675-748c-466b-daa1-207b0046930c"
      },
      "execution_count": 20,
      "outputs": [
        {
          "output_type": "stream",
          "name": "stdout",
          "text": [
            "Number of Images Predict with Unseen Data: 750\n",
            "True Position: 0\n",
            "True Negative: 235\n",
            "False Positives: 515\n",
            "False Negative: 0\n",
            "-------------------------------------------------------------\n",
            "Model Accuracy: 0.31333333333333335\n",
            "Precision: 0.0\n",
            "Recall: 0\n",
            "F1 Score: 0\n"
          ]
        }
      ]
    },
    {
      "cell_type": "code",
      "source": [
        "true_positives = 0\n",
        "false_positives = 0\n",
        "false_negatives = 0\n",
        "true_negatives = 0\n",
        "\n",
        "for images_validation, labels_validation in validationloader:\n",
        "  for i in range(len(labels_validation)):\n",
        "    x = images_validation[i].view(1,150*150)\n",
        "\n",
        "    with torch.no_grad():\n",
        "        log_y = model(x)\n",
        "    y = torch.exp(log_y)\n",
        "    prob = list(y.numpy()[0])\n",
        "    pred_output = prob.index(max(prob))\n",
        "\n",
        "    answer = labels_validation.numpy()[i]\n",
        "    if answer == pred_output and answer == 0:\n",
        "          true_negatives += 1\n",
        "    elif answer == pred_output and answer == 1:\n",
        "          true_positives += 1\n",
        "    elif answer != pred_output and answer == 0:\n",
        "          false_positives += 1\n",
        "    elif answer != pred_output and answer == 1:\n",
        "          false_negatives += 1\n",
        "\n",
        "precision = true_positives / (true_positives + false_positives)\n",
        "recall = true_positives / (true_positives + false_negatives)\n",
        "f1 = 2 * (precision * recall) / (precision + recall)\n",
        "\n",
        "print('Number of Images validated:', true_positives + false_positives + false_negatives + true_negatives)\n",
        "print('True Position:', true_positives)\n",
        "print('True Negative:', true_negatives)\n",
        "print('False Positives:', false_positives)\n",
        "print('False Negative:', false_negatives)\n",
        "print('-------------------------------------------------------------')\n",
        "print('Model Accuracy:', (true_positives + true_negatives) / (true_positives + false_positives + false_negatives + true_negatives))\n",
        "print('Precision:', precision)\n",
        "print('Recall:', recall)\n",
        "print('F1 Score:', f1)\n"
      ],
      "metadata": {
        "id": "g1xarjsldOek",
        "colab": {
          "base_uri": "https://localhost:8080/"
        },
        "outputId": "1f1a7a28-8a5e-4e7d-9147-e4199b9cfa86"
      },
      "execution_count": 21,
      "outputs": [
        {
          "output_type": "stream",
          "name": "stdout",
          "text": [
            "Number of Images validated: 1500\n",
            "True Position: 490\n",
            "True Negative: 792\n",
            "False Positives: 208\n",
            "False Negative: 10\n",
            "-------------------------------------------------------------\n",
            "Model Accuracy: 0.8546666666666667\n",
            "Precision: 0.7020057306590258\n",
            "Recall: 0.98\n",
            "F1 Score: 0.8180300500834724\n"
          ]
        }
      ]
    }
  ]
}