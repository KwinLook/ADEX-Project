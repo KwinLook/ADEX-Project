{
  "cells": [
    {
      "cell_type": "markdown",
      "metadata": {
        "colab_type": "text",
        "id": "view-in-github"
      },
      "source": [
        "<a href=\"https://colab.research.google.com/github/KwinLook/ADEX-Project/blob/main/ANN.ipynb\" target=\"_parent\"><img src=\"https://colab.research.google.com/assets/colab-badge.svg\" alt=\"Open In Colab\"/></a>"
      ]
    },
    {
      "cell_type": "code",
      "execution_count": null,
      "metadata": {},
      "outputs": [],
      "source": [
        "import numpy as np\n",
        "import matplotlib.pyplot as plt\n",
        "import torch\n",
        "import torch.utils.data as data\n",
        "import torchvision\n",
        "from torchvision import datasets, transforms\n",
        "from torch import nn,optim\n",
        "from time import time"
      ]
    },
    {
      "cell_type": "code",
      "execution_count": null,
      "metadata": {
        "id": "rskklrQT0jqd"
      },
      "outputs": [],
      "source": [
        "width = 150\n",
        "size=(width,width)\n",
        "tranform = transforms.Compose([transforms.Resize(size),\n",
        "                              transforms.Grayscale(num_output_channels=1),\n",
        "                              transforms.ToTensor(),\n",
        "                              transforms.Normalize((0.5),(0.5))])"
      ]
    },
    {
      "cell_type": "code",
      "execution_count": null,
      "metadata": {
        "id": "1YDOtA0r1PWh"
      },
      "outputs": [],
      "source": [
        "trainset = torchvision.datasets.ImageFolder(root=\"train/\", transform=tranform)\n",
        "print(trainset)"
      ]
    },
    {
      "cell_type": "code",
      "execution_count": null,
      "metadata": {
        "id": "fZvMGkxA1kYP"
      },
      "outputs": [],
      "source": [
        "validationset = torchvision.datasets.ImageFolder(root=\"validation/\", transform=tranform)\n",
        "print(validationset)"
      ]
    },
    {
      "cell_type": "code",
      "execution_count": null,
      "metadata": {
        "id": "0EOMipI_1rZV"
      },
      "outputs": [],
      "source": [
        "trainloader = torch.utils.data.DataLoader(trainset, batch_size=4, shuffle=True)\n",
        "print(trainloader)"
      ]
    },
    {
      "cell_type": "code",
      "execution_count": null,
      "metadata": {
        "id": "LSTIIiXV9Hi3"
      },
      "outputs": [],
      "source": [
        "validationloader = torch.utils.data.DataLoader(validationset, batch_size=4, shuffle=True)\n",
        "print(validationloader)"
      ]
    },
    {
      "cell_type": "code",
      "execution_count": null,
      "metadata": {
        "id": "_HrWHUNn9OuY"
      },
      "outputs": [],
      "source": [
        "images, labels = next(iter(trainloader))"
      ]
    },
    {
      "cell_type": "code",
      "execution_count": null,
      "metadata": {
        "id": "pWbGn6899dA0"
      },
      "outputs": [],
      "source": [
        "print(images.shape)\n",
        "print(labels.shape)\n",
        "print(labels)"
      ]
    },
    {
      "cell_type": "code",
      "execution_count": null,
      "metadata": {
        "id": "S3y8FGZa-Bpd"
      },
      "outputs": [],
      "source": [
        "#Create ANN Model\n",
        "input_size = width*width*1\n",
        "hidden_sizes = [1890,1350,810,270,135,60]\n",
        "output_size = 3\n",
        "\n",
        "model = nn.Sequential(nn.Linear(input_size, hidden_sizes[0]), nn.ReLU(),\n",
        "                      nn.Linear(hidden_sizes[0], hidden_sizes[1]), nn.ReLU(),\n",
        "                      nn.Linear(hidden_sizes[1], hidden_sizes[2]), nn.ReLU(),\n",
        "                      nn.Linear(hidden_sizes[2], hidden_sizes[3]), nn.ReLU(),\n",
        "                      nn.Linear(hidden_sizes[3], hidden_sizes[4]), nn.ReLU(),\n",
        "                      nn.Linear(hidden_sizes[4], hidden_sizes[5]), nn.ReLU(),\n",
        "                      nn.Linear(hidden_sizes[5], output_size), nn.LogSoftmax(dim=1))\n",
        "\n",
        "print(model)"
      ]
    },
    {
      "cell_type": "code",
      "execution_count": null,
      "metadata": {
        "id": "7wC0S27HNvPw"
      },
      "outputs": [],
      "source": [
        "#Train Model\n",
        "criterion = nn.NLLLoss()\n",
        "optimizer = optim.SGD(model.parameters(), lr=0.001, momentum=0.09)\n",
        "time0 = time()\n",
        "epochs = 100\n",
        "for e in range(epochs):\n",
        "  running_loss = 0\n",
        "  for images, labels in trainloader:\n",
        "    x = images.view(images.shape[0], -1)\n",
        "    optimizer.zero_grad()\n",
        "    output = model(x)\n",
        "    loss = criterion(output, labels)\n",
        "    loss.backward()\n",
        "    optimizer.step()\n",
        "    running_loss += loss.item()\n",
        "  print('Epoch {} - Train loss {}'.format(e+1, running_loss/len(trainloader)))\n",
        "print('\\nTraining Time (in minutes) - {}'.format((time()-time0)/60))"
      ]
    },
    {
      "cell_type": "code",
      "execution_count": null,
      "metadata": {
        "id": "_xKEb4sHSker"
      },
      "outputs": [],
      "source": [
        "images_validation,labels_validation=next(iter(validationloader))\n",
        "print(images_validation.shape)\n",
        "print(labels_validation)"
      ]
    },
    {
      "cell_type": "code",
      "execution_count": null,
      "metadata": {
        "id": "DBOclcHkS7vz"
      },
      "outputs": [],
      "source": [
        "x_validation = images_validation[1].view(1,width*width)\n",
        "\n",
        "with torch.no_grad():\n",
        "  y = model(x_validation)\n",
        "\n",
        "print(torch.exp(y))\n",
        "\n",
        "plt.imshow(images_validation[1][0], cmap='gray')\n",
        "plt.show()\n",
        "print('ANSWER:' ,labels[1])\n"
      ]
    },
    {
      "cell_type": "code",
      "execution_count": null,
      "metadata": {
        "id": "8zp_acVAULAv"
      },
      "outputs": [],
      "source": [
        "true_positives = 0\n",
        "false_positives = 0\n",
        "false_negatives = 0\n",
        "true_negatives = 0\n",
        "\n",
        "for images_validation, labels_validation in validationloader:\n",
        "  for i in range(len(labels_validation)):\n",
        "    x = images_validation[i].view(1,150*150)\n",
        "\n",
        "    with torch.no_grad():\n",
        "        log_y = model(x)\n",
        "    y = torch.exp(log_y)\n",
        "    prob = list(y.numpy()[0])\n",
        "    pred_output = prob.index(max(prob))\n",
        "\n",
        "    answer = labels_validation.numpy()[i]\n",
        "    if answer == pred_output and answer == 0:\n",
        "          true_negatives += 1\n",
        "    elif answer == pred_output and answer == 1:\n",
        "          true_positives += 1\n",
        "    elif answer != pred_output and answer == 0:\n",
        "          false_positives += 1\n",
        "    elif answer != pred_output and answer == 1:\n",
        "          false_negatives += 1\n",
        "\n",
        "precision = true_positives / (true_positives + false_positives)\n",
        "recall = true_positives / (true_positives + false_negatives)\n",
        "f1 = 2 * (precision * recall) / (precision + recall)\n",
        "\n",
        "print('Number of Images validated:', true_positives + false_positives + false_negatives + true_negatives)\n",
        "print('Model Accuracy:', (true_positives + true_negatives) / (true_positives + false_positives + false_negatives + true_negatives))\n",
        "print('Precision:', precision)\n",
        "print('Recall:', recall)\n",
        "print('F1 Score:', f1)"
      ]
    },
    {
      "attachments": {},
      "cell_type": "markdown",
      "metadata": {},
      "source": [
        "**Prediction With Unseen Data**"
      ]
    },
    {
      "cell_type": "code",
      "execution_count": null,
      "metadata": {},
      "outputs": [],
      "source": [
        "predictset = torchvision.datasets.ImageFolder(root=\"predict-750-images/\", transform=tranform)\n",
        "print(predictset)"
      ]
    },
    {
      "cell_type": "code",
      "execution_count": null,
      "metadata": {},
      "outputs": [],
      "source": [
        "predictloader = torch.utils.data.DataLoader(predictset, batch_size=4, shuffle=True)\n",
        "print(predictloader)"
      ]
    },
    {
      "cell_type": "code",
      "execution_count": null,
      "metadata": {},
      "outputs": [],
      "source": [
        "images_predict,labels_predict=next(iter(predictloader))\n",
        "print(images_predict.shape)\n",
        "print(labels_predict)"
      ]
    },
    {
      "cell_type": "code",
      "execution_count": null,
      "metadata": {},
      "outputs": [],
      "source": [
        "x_predict = images_predict[1].view(1,width*width)\n",
        "\n",
        "with torch.no_grad():\n",
        "  y = model(x_predict)\n",
        "\n",
        "print(torch.exp(y))\n",
        "\n",
        "plt.imshow(images_predict[1][0], cmap='gray')\n",
        "plt.show()\n",
        "print('ANSWER:' ,labels[1])\n"
      ]
    },
    {
      "cell_type": "code",
      "execution_count": null,
      "metadata": {},
      "outputs": [],
      "source": [
        "true_positives = 0\n",
        "false_positives = 0\n",
        "false_negatives = 0\n",
        "true_negatives = 0\n",
        "\n",
        "for images_predict, labels_predict in predictloader:\n",
        "  for i in range(len(labels_predict)):\n",
        "    x = images_predict[i].view(1,150*150)\n",
        "\n",
        "    with torch.no_grad():\n",
        "        log_y = model(x)\n",
        "    y = torch.exp(log_y)\n",
        "    prob = list(y.numpy()[0])\n",
        "    pred_output = prob.index(max(prob))\n",
        "\n",
        "    answer = labels_predict.numpy()[i]\n",
        "    if answer == pred_output and answer == 0:\n",
        "          true_negatives += 1\n",
        "    elif answer == pred_output and answer == 1:\n",
        "          true_positives += 1\n",
        "    elif answer != pred_output and answer == 0:\n",
        "          false_positives += 1\n",
        "    elif answer != pred_output and answer == 1:\n",
        "          false_negatives += 1\n",
        "          \n",
        "precision = true_positives / (true_positives + false_positives)\n",
        "if (true_positives + false_negatives) == 0:\n",
        "    recall = 0\n",
        "else:\n",
        "    recall = true_positives / (true_positives + false_negatives)\n",
        "if (precision + recall) == 0:\n",
        "    f1 = 0\n",
        "else:\n",
        "    f1 = 2 * (precision * recall) / (precision + recall)\n",
        "\n",
        "print('Number of Images validated:', true_positives + false_positives + false_negatives + true_negatives)\n",
        "print('Model Accuracy:', (true_positives + true_negatives) / (true_positives + false_positives + false_negatives + true_negatives))\n",
        "print('Precision:', precision)\n",
        "print('Recall:', recall)\n",
        "print('F1 Score:', f1)"
      ]
    }
  ],
  "metadata": {
    "colab": {
      "authorship_tag": "ABX9TyN/jGtLUqtK5/BojRMRvVfG",
      "include_colab_link": true,
      "provenance": []
    },
    "kernelspec": {
      "display_name": "Python 3",
      "name": "python3"
    },
    "language_info": {
      "name": "python"
    }
  },
  "nbformat": 4,
  "nbformat_minor": 0
}
