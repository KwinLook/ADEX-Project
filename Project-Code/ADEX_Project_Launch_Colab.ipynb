{
  "cells": [
    {
      "cell_type": "markdown",
      "metadata": {
        "colab_type": "text",
        "id": "view-in-github"
      },
      "source": [
        "<a href=\"https://colab.research.google.com/github/KwinLook/ADEX-Project/blob/main/ADEX_Project_Launch_Colab.ipynb\" target=\"_parent\"><img src=\"https://colab.research.google.com/assets/colab-badge.svg\" alt=\"Open In Colab\"/></a>"
      ]
    },
    {
      "cell_type": "code",
      "execution_count": null,
      "metadata": {
        "id": "dl8bsFmKX3uG"
      },
      "outputs": [],
      "source": [
        "import tensorflow as tf\n",
        "import pandas as pd\n",
        "import numpy as np\n",
        "import seaborn as sns\n",
        "import matplotlib.pyplot as plt"
      ]
    },
    {
      "cell_type": "code",
      "execution_count": null,
      "metadata": {
        "id": "3gLmyJanYBzc"
      },
      "outputs": [],
      "source": [
        "import os\n",
        "import cv2\n",
        "from tqdm import tqdm\n",
        "import keras\n",
        "from keras.models import Sequential\n",
        "from keras.layers import Dense, Dropout, Activation, Flatten\n",
        "from keras.layers import Conv2D, MaxPooling2D\n",
        "from os import listdir\n",
        "from os.path import isfile, join"
      ]
    },
    {
      "cell_type": "code",
      "execution_count": null,
      "metadata": {},
      "outputs": [],
      "source": [
        "train_dir = 'train/'\n",
        "validation_dir = 'validation/'\n",
        "num_classes =2\n",
        "width = 150"
      ]
    },
    {
      "cell_type": "code",
      "execution_count": null,
      "metadata": {},
      "outputs": [],
      "source": [
        "train_Explosive_dir = os.path.join(train_dir, 'explosive')  # directory with our training Explosive pictures\n",
        "train_None_dir = os.path.join(train_dir, 'none')  # directory with our training Non-Explosiv pictures\n",
        "validation_Explosive_dir = os.path.join(validation_dir, 'explosive')  # directory with our validation Explosive pictures\n",
        "validation_None_dir = os.path.join(validation_dir, 'none')  # directory with our validation Non-Explosiv pictures\n",
        "\n",
        "num_Explosive_tr = len(os.listdir(train_Explosive_dir))\n",
        "num_None_tr = len(os.listdir(train_None_dir))\n",
        "\n",
        "num_Explosive_val = len(os.listdir(validation_Explosive_dir))\n",
        "num_None_val = len(os.listdir(validation_None_dir))\n",
        "\n",
        "total_train = num_Explosive_tr + num_None_tr\n",
        "total_val = num_Explosive_val + num_None_val"
      ]
    },
    {
      "cell_type": "code",
      "execution_count": null,
      "metadata": {},
      "outputs": [],
      "source": [
        "trainImg = [train_dir+f for f in listdir(train_dir) if listdir(join(train_dir, f))]\n",
        "valImg = [validation_dir+f for f in listdir(validation_dir) if listdir(join(validation_dir, f))]"
      ]
    },
    {
      "cell_type": "code",
      "execution_count": null,
      "metadata": {},
      "outputs": [],
      "source": [
        "# One-Hot Encoding\n",
        "def img2data(path):\n",
        "  rawImgs = []\n",
        "  labels = []\n",
        "  c = 0\n",
        "  for imagePath in (path):\n",
        "      for item in tqdm(os.listdir(imagePath)):\n",
        "          file = os.path.join(imagePath, item)\n",
        "          #print(file)\n",
        "          c+=1\n",
        "          l = imagePath.split('/')[1]\n",
        "          if l == 'explosive':\n",
        "            labels.append([1,0])         \n",
        "          elif l == 'none':\n",
        "            labels.append([0,1])\n",
        "          img = cv2.imread(file , cv2.COLOR_BGR2RGB)\n",
        "          img = cv2.resize(img ,(width,width))\n",
        "          rawImgs.append(img)\n",
        "  return rawImgs, labels"
      ]
    },
    {
      "cell_type": "code",
      "execution_count": null,
      "metadata": {},
      "outputs": [],
      "source": [
        "x_train, y_train = img2data(trainImg)\n",
        "x_val, y_val = img2data(valImg)"
      ]
    },
    {
      "cell_type": "code",
      "execution_count": null,
      "metadata": {},
      "outputs": [],
      "source": [
        "x_train = np.array(x_train)\n",
        "y_train = np.array(y_train)\n",
        "x_val = np.array(x_val)\n",
        "y_val = np.array(y_val)\n",
        "x_train = x_train.astype('float32')\n",
        "x_val = x_val.astype('float32')\n",
        "x_train /= 255\n",
        "x_val /= 255"
      ]
    },
    {
      "cell_type": "code",
      "execution_count": null,
      "metadata": {},
      "outputs": [],
      "source": [
        "x_train.shape,y_train.shape,x_val.shape, y_val.shape"
      ]
    },
    {
      "cell_type": "code",
      "execution_count": null,
      "metadata": {},
      "outputs": [],
      "source": [
        "#Create Nueral Network Test Dropout\n",
        "model = keras.Sequential([\n",
        "        keras.layers.Conv2D(128, (3,3), activation='relu', input_shape=(width, width, 3)),\n",
        "        keras.layers.MaxPooling2D(pool_size=(2, 2)),\n",
        "        keras.layers.Dropout(0.75),\n",
        "        keras.layers.Conv2D(100,(3,3) , activation='relu'),\n",
        "        keras.layers.MaxPooling2D(pool_size=(2,2 )),\n",
        "        keras.layers.Dropout(0.5),\n",
        "        keras.layers.Conv2D(64,(3,3) , activation='relu'),\n",
        "        keras.layers.MaxPooling2D(pool_size=(2,2 )),\n",
        "        keras.layers.Dropout(0.25),\n",
        "        keras.layers.Conv2D(32,(3,3) , activation='relu'),\n",
        "        keras.layers.MaxPooling2D(pool_size=(2,2 )),\n",
        "        keras.layers.Dense(16),\n",
        "        keras.layers.Flatten(),\n",
        "        keras.layers.Dense(2),\n",
        "        keras.layers.Dense(num_classes, activation='softmax') #softmax for one hot . . # sigmoid for 0/1\n",
        "    ])\n"
      ]
    },
    {
      "cell_type": "code",
      "execution_count": null,
      "metadata": {},
      "outputs": [],
      "source": [
        "model.summary()"
      ]
    },
    {
      "cell_type": "code",
      "execution_count": null,
      "metadata": {},
      "outputs": [],
      "source": [
        "\n",
        "model.compile(optimizer='adam',loss='categorical_crossentropy',metrics=['accuracy'])"
      ]
    },
    {
      "cell_type": "code",
      "execution_count": null,
      "metadata": {},
      "outputs": [],
      "source": [
        "epochs=100\n",
        "batch_size =35\n",
        "history = model.fit(x_train, y_train ,batch_size=batch_size, epochs=epochs ,validation_data=(x_val, y_val))"
      ]
    },
    {
      "cell_type": "code",
      "execution_count": null,
      "metadata": {},
      "outputs": [],
      "source": [
        "import matplotlib.pyplot as plt\n",
        "plt.plot(history.history['accuracy'])\n",
        "plt.plot(history.history['val_accuracy'])\n",
        "plt.title('model accuracy')\n",
        "plt.ylabel('accuracy')\n",
        "plt.xlabel('epoch')\n",
        "plt.legend(['train', 'validation'], loc='upper left')\n",
        "plt.show()\n",
        "# \"Loss\"\n",
        "plt.plot(history.history['loss'])\n",
        "plt.plot(history.history['val_loss'])\n",
        "plt.title('model loss')\n",
        "plt.ylabel('loss')\n",
        "plt.xlabel('epoch')\n",
        "plt.legend(['train', 'validation'], loc='upper left')\n",
        "plt.show()"
      ]
    },
    {
      "cell_type": "code",
      "execution_count": null,
      "metadata": {},
      "outputs": [],
      "source": [
        "predict_dir = 'generated_predict/'\n",
        "predictImg = [predict_dir+f for f in listdir(predict_dir) if listdir(join(predict_dir, f))]\n",
        "rimg = []\n",
        "for imagePath in (predictImg):\n",
        "    for item in (os.listdir(imagePath)):\n",
        "        file = os.path.join(imagePath, item)\n",
        "        if item.split('.')[0] != \"\":\n",
        "           \n",
        "          img = cv2.imread(file , cv2.COLOR_BGR2RGB)\n",
        "          ori = cv2.cvtColor(img, cv2.COLOR_BGR2RGB)\n",
        "          img = cv2.resize(img ,(width,width))\n",
        "          rimg = np.array(img)\n",
        "          rimg = rimg.astype('float32')\n",
        "          rimg /= 255\n",
        "          rimg = np.reshape(rimg ,(1,150,150,3))\n",
        "          predict = model.predict(rimg)\n",
        "          label = ['explosive','none']\n",
        "          result = label[np.argmax(predict)]\n",
        "          print(predict)\n",
        "          print('real:'+str(item))\n",
        "          print('predict:'+str(result))\n",
        "          #cv2.putText(img, 'real:'+str(item), (10,10), cv2.FONT_HERSHEY_SIMPLEX, 0.2, (255,0,))\n",
        "          #cv2.putText(img, 'predict'+str(result), (10,30), cv2.FONT_HERSHEY_SIMPLEX, 0.2, (255,0,0))\n",
        "          plt.imshow(ori)\n",
        "          plt.show()"
      ]
    }
  ],
  "metadata": {
    "colab": {
      "authorship_tag": "ABX9TyPQd/qGMzDty5MgTMyWE4E/",
      "include_colab_link": true,
      "name": "ADEX-Project-Launch-Colab.ipynb",
      "provenance": []
    },
    "kernelspec": {
      "display_name": "Python 3",
      "name": "python3"
    },
    "language_info": {
      "name": "python"
    }
  },
  "nbformat": 4,
  "nbformat_minor": 0
}
