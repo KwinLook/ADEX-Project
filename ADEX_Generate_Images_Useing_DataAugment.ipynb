{
  "nbformat": 4,
  "nbformat_minor": 0,
  "metadata": {
    "colab": {
      "name": "ADEX_Generate_Images_Useing_DataAugment.ipynb",
      "provenance": [],
      "authorship_tag": "ABX9TyO85v44ScewPrIA6tYufEfC",
      "include_colab_link": true
    },
    "kernelspec": {
      "name": "python3",
      "display_name": "Python 3"
    },
    "language_info": {
      "name": "python"
    }
  },
  "cells": [
    {
      "cell_type": "markdown",
      "metadata": {
        "id": "view-in-github",
        "colab_type": "text"
      },
      "source": [
        "<a href=\"https://colab.research.google.com/github/KwinLook/ADEX-Project/blob/main/ADEX_Generate_Images_Useing_DataAugment.ipynb\" target=\"_parent\"><img src=\"https://colab.research.google.com/assets/colab-badge.svg\" alt=\"Open In Colab\"/></a>"
      ]
    },
    {
      "cell_type": "code",
      "execution_count": null,
      "metadata": {
        "id": "nHw1-S8feiLM"
      },
      "outputs": [],
      "source": [
        "# import the necessary packages\n",
        "from keras.preprocessing.image import ImageDataGenerator\n",
        "from keras.preprocessing.image import img_to_array\n",
        "from keras.preprocessing.image import load_img\n",
        "import numpy as np\n",
        "import argparse\n",
        "import cv2\n",
        "import os\n",
        "from imutils import paths"
      ]
    },
    {
      "cell_type": "code",
      "source": [
        "# construct the argument parser and parse the arguments\n",
        "ap = argparse.ArgumentParser()\n",
        "ap.add_argument(\"-d\", \"--dataset\", required=True,\n",
        "\thelp=\"path to input dataset\")\n",
        "ap.add_argument(\"-o\", \"--output\", required=True,\n",
        "\thelp=\"path to output directory to store augmentation examples\")\n",
        "ap.add_argument(\"-t\", \"--total\", type=int, default=100,\n",
        "\thelp=\"# of training samples to generate\")\n",
        "args = vars(ap.parse_args())\n",
        "\n",
        "print(\"[INFO] loading images...\")\n",
        "imagePaths = list(paths.list_images(args[\"dataset\"]))\n",
        "data = []"
      ],
      "metadata": {
        "id": "lOO0O312ekTF"
      },
      "execution_count": null,
      "outputs": []
    },
    {
      "cell_type": "code",
      "source": [
        "# loop over the image paths\n",
        "for imagePath in imagePaths:\n",
        "\t# extract the class label from the filename\n",
        "\tlabel = imagePath.split(os.path.sep)[-2]\n",
        "\n",
        "\t# load the image, swap color channels, and resize it to be a fixed\n",
        "\t# 224x224 pixels while ignoring aspect ratio\n",
        "\timage = cv2.imread(imagePath)\n",
        "\t# update the data and labels lists, respectively\n",
        "\tdata.append(image)\n",
        "for image in data:\n",
        "\t# load the input image, convert it to a NumPy array, and then\n",
        "\t# reshape it to have an extra dimension\n",
        "\tprint(\"[INFO] loading example image...\")\n",
        "\timage = img_to_array(image)\n",
        "\timage = np.expand_dims(image, axis=0)\n",
        "\n",
        "\t# construct the image generator for data augmentation then\n",
        "\t# initialize the total number of images generated thus far\n",
        "\taug = ImageDataGenerator(\n",
        "\t\trescale=1./255,\n",
        "        rotation_range=20,\n",
        "        width_shift_range=0.1,\n",
        "        height_shift_range=0.1,\n",
        "        shear_range=0.1,\n",
        "        zoom_range=0.1,\n",
        "        horizontal_flip=True,\n",
        "        fill_mode='nearest',\n",
        "        brightness_range=[0.75,1.5])\n",
        "\t\n",
        "\ttotal = 0\n",
        "\t# construct the actual Python generator\n",
        "\tprint(\"[INFO] generating images...\")\n",
        "\timageGen = aug.flow(image, batch_size=1, save_to_dir=args[\"output\"],\n",
        "\t\tsave_prefix=\"image\", save_format=\"jpg\")\n",
        "\n",
        "\t# loop over examples from our image data augmentation generator\n",
        "\tfor image in imageGen:\n",
        "\t\t# increment our counter\n",
        "\t\ttotal += 1\n",
        "\n",
        "\t\t# if we have reached the specified number of examples, break\n",
        "\t\t# from the loop\n",
        "\t\tif total == args[\"total\"]:\n",
        "\t\t\tbreak"
      ],
      "metadata": {
        "id": "sVcoMu2Pep4G"
      },
      "execution_count": null,
      "outputs": []
    }
  ]
}