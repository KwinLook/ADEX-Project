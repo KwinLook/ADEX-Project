{
  "nbformat": 4,
  "nbformat_minor": 0,
  "metadata": {
    "colab": {
      "provenance": [],
      "machine_shape": "hm",
      "authorship_tag": "ABX9TyP4Sbe+PR6/DyCQqnR862Ku",
      "include_colab_link": true
    },
    "kernelspec": {
      "name": "python3",
      "display_name": "Python 3"
    },
    "language_info": {
      "name": "python"
    },
    "accelerator": "GPU",
    "gpuClass": "premium"
  },
  "cells": [
    {
      "cell_type": "markdown",
      "metadata": {
        "id": "view-in-github",
        "colab_type": "text"
      },
      "source": [
        "<a href=\"https://colab.research.google.com/github/KwinLook/ADEX-Project/blob/main/Project-Code/Normal_ANN_Model.ipynb\" target=\"_parent\"><img src=\"https://colab.research.google.com/assets/colab-badge.svg\" alt=\"Open In Colab\"/></a>"
      ]
    },
    {
      "cell_type": "code",
      "source": [
        "# from google.colab import drive\n",
        "# drive.mount('/content/drive')\n",
        "# ----------------------------------------------\n",
        "\n",
        "# !unzip --qq dataset-training-2750-images.zip\n",
        "# !unzip --qq dataset-predict-750-images.zip"
      ],
      "metadata": {
        "id": "r6nYz6njwCsK"
      },
      "execution_count": 1,
      "outputs": []
    },
    {
      "cell_type": "code",
      "execution_count": 2,
      "metadata": {
        "id": "Fys1chJXcuXI"
      },
      "outputs": [],
      "source": [
        "import numpy as np\n",
        "import matplotlib.pyplot as plt\n",
        "import torch\n",
        "import torch.utils.data as data\n",
        "import torchvision\n",
        "from torchvision import datasets, transforms\n",
        "from torch import nn,optim\n",
        "from time import time"
      ]
    },
    {
      "cell_type": "code",
      "source": [
        "width = 150\n",
        "size=(width,width)\n",
        "\n",
        "tranform = transforms.Compose([transforms.Resize(size),\n",
        "                              transforms.Grayscale(num_output_channels=1),\n",
        "                              transforms.ToTensor(),\n",
        "                              transforms.Normalize((0.5),(0.5))])"
      ],
      "metadata": {
        "id": "rskklrQT0jqd"
      },
      "execution_count": 3,
      "outputs": []
    },
    {
      "cell_type": "code",
      "source": [
        "trainset = torchvision.datasets.ImageFolder(root=\"train/\", transform=tranform)\n",
        "print(trainset)"
      ],
      "metadata": {
        "id": "1YDOtA0r1PWh",
        "colab": {
          "base_uri": "https://localhost:8080/"
        },
        "outputId": "16f213cc-5cff-46e2-e0a9-5ce86b21c574"
      },
      "execution_count": 4,
      "outputs": [
        {
          "output_type": "stream",
          "name": "stdout",
          "text": [
            "Dataset ImageFolder\n",
            "    Number of datapoints: 2750\n",
            "    Root location: train/\n",
            "    StandardTransform\n",
            "Transform: Compose(\n",
            "               Resize(size=(150, 150), interpolation=bilinear, max_size=None, antialias=None)\n",
            "               Grayscale(num_output_channels=1)\n",
            "               ToTensor()\n",
            "               Normalize(mean=0.5, std=0.5)\n",
            "           )\n"
          ]
        }
      ]
    },
    {
      "cell_type": "code",
      "source": [
        "validationset = torchvision.datasets.ImageFolder(root=\"validation/\", transform=tranform)\n",
        "print(validationset)"
      ],
      "metadata": {
        "id": "fZvMGkxA1kYP",
        "colab": {
          "base_uri": "https://localhost:8080/"
        },
        "outputId": "4c4b1605-792f-44f0-c4b3-a383131ec38b"
      },
      "execution_count": 5,
      "outputs": [
        {
          "output_type": "stream",
          "name": "stdout",
          "text": [
            "Dataset ImageFolder\n",
            "    Number of datapoints: 1500\n",
            "    Root location: validation/\n",
            "    StandardTransform\n",
            "Transform: Compose(\n",
            "               Resize(size=(150, 150), interpolation=bilinear, max_size=None, antialias=None)\n",
            "               Grayscale(num_output_channels=1)\n",
            "               ToTensor()\n",
            "               Normalize(mean=0.5, std=0.5)\n",
            "           )\n"
          ]
        }
      ]
    },
    {
      "cell_type": "code",
      "source": [
        "trainloader = torch.utils.data.DataLoader(trainset, batch_size=4, shuffle=True)\n",
        "print(trainloader)"
      ],
      "metadata": {
        "colab": {
          "base_uri": "https://localhost:8080/"
        },
        "id": "h7di8tskwcIp",
        "outputId": "2fac8983-379d-4ef8-f850-7ee366cfe664"
      },
      "execution_count": 6,
      "outputs": [
        {
          "output_type": "stream",
          "name": "stdout",
          "text": [
            "<torch.utils.data.dataloader.DataLoader object at 0x7f2e3b5efeb0>\n"
          ]
        }
      ]
    },
    {
      "cell_type": "code",
      "source": [
        "validationloader = torch.utils.data.DataLoader(validationset, batch_size=4, shuffle=True)\n",
        "print(validationloader)"
      ],
      "metadata": {
        "colab": {
          "base_uri": "https://localhost:8080/"
        },
        "id": "TvdQKsrZwdry",
        "outputId": "e8c66349-c0f9-4227-8e4c-eddde0006da5"
      },
      "execution_count": 7,
      "outputs": [
        {
          "output_type": "stream",
          "name": "stdout",
          "text": [
            "<torch.utils.data.dataloader.DataLoader object at 0x7f2e3b531460>\n"
          ]
        }
      ]
    },
    {
      "cell_type": "code",
      "source": [
        "images, labels = next(iter(trainloader))"
      ],
      "metadata": {
        "id": "ZgKjGaH9wfjh"
      },
      "execution_count": 8,
      "outputs": []
    },
    {
      "cell_type": "code",
      "source": [
        "print(images.shape)\n",
        "print(labels.shape)\n",
        "print(labels)"
      ],
      "metadata": {
        "colab": {
          "base_uri": "https://localhost:8080/"
        },
        "id": "JSsMWjnmwhHk",
        "outputId": "e939864b-10a8-4992-9ce5-ef0e5e63701a"
      },
      "execution_count": 9,
      "outputs": [
        {
          "output_type": "stream",
          "name": "stdout",
          "text": [
            "torch.Size([4, 1, 150, 150])\n",
            "torch.Size([4])\n",
            "tensor([1, 1, 0, 0])\n"
          ]
        }
      ]
    },
    {
      "cell_type": "code",
      "source": [
        "# plt.imshow(images[2][0],cmap='gray')\n",
        "# plt.show()\n",
        "# print('Answer:',labels[2])"
      ],
      "metadata": {
        "id": "L5ix4ur9wiko"
      },
      "execution_count": 10,
      "outputs": []
    },
    {
      "cell_type": "code",
      "source": [
        "#Create ANN Model\n",
        "input_size = width*width*1\n",
        "hidden_sizes = [1890,1350,810,270,135,60]\n",
        "output_size = 3\n",
        "\n",
        "model = nn.Sequential(nn.Linear(input_size, hidden_sizes[0]), nn.ReLU(),\n",
        "                      nn.Linear(hidden_sizes[0], hidden_sizes[1]), nn.ReLU(),\n",
        "                      nn.Linear(hidden_sizes[1], hidden_sizes[2]), nn.ReLU(),\n",
        "                      nn.Linear(hidden_sizes[2], hidden_sizes[3]), nn.ReLU(),\n",
        "                      nn.Linear(hidden_sizes[3], hidden_sizes[4]), nn.ReLU(),\n",
        "                      nn.Linear(hidden_sizes[4], hidden_sizes[5]), nn.ReLU(),\n",
        "                      nn.Linear(hidden_sizes[5], output_size), nn.LogSoftmax(dim=1))\n",
        "\n",
        "print(model)"
      ],
      "metadata": {
        "colab": {
          "base_uri": "https://localhost:8080/"
        },
        "id": "ZehPdXGm3PfH",
        "outputId": "9776e616-b188-4ee4-b2b1-0e50c1b596ff"
      },
      "execution_count": 11,
      "outputs": [
        {
          "output_type": "stream",
          "name": "stdout",
          "text": [
            "Sequential(\n",
            "  (0): Linear(in_features=22500, out_features=1890, bias=True)\n",
            "  (1): ReLU()\n",
            "  (2): Linear(in_features=1890, out_features=1350, bias=True)\n",
            "  (3): ReLU()\n",
            "  (4): Linear(in_features=1350, out_features=810, bias=True)\n",
            "  (5): ReLU()\n",
            "  (6): Linear(in_features=810, out_features=270, bias=True)\n",
            "  (7): ReLU()\n",
            "  (8): Linear(in_features=270, out_features=135, bias=True)\n",
            "  (9): ReLU()\n",
            "  (10): Linear(in_features=135, out_features=60, bias=True)\n",
            "  (11): ReLU()\n",
            "  (12): Linear(in_features=60, out_features=3, bias=True)\n",
            "  (13): LogSoftmax(dim=1)\n",
            ")\n"
          ]
        }
      ]
    },
    {
      "cell_type": "code",
      "source": [
        "#Train Model\n",
        "criterion = nn.NLLLoss()\n",
        "optimizer = optim.SGD(model.parameters(), lr=0.001, momentum=0.09)\n",
        "time0 = time()\n",
        "epochs = 100\n",
        "for e in range(epochs):\n",
        "  running_loss = 0\n",
        "  for images, labels in trainloader:\n",
        "    x = images.view(images.shape[0], -1)\n",
        "    optimizer.zero_grad()\n",
        "    output = model(x)\n",
        "    loss = criterion(output, labels)\n",
        "    loss.backward()\n",
        "    optimizer.step()\n",
        "    running_loss += loss.item()\n",
        "  print('Epoch {} - Train loss {}'.format(e+1, running_loss/len(trainloader)))\n",
        "print('\\nTraining Time (in minutes) - {}'.format((time()-time0)/60))"
      ],
      "metadata": {
        "colab": {
          "base_uri": "https://localhost:8080/"
        },
        "id": "4yVJ1YWv3UrH",
        "outputId": "bfc6ae1d-d590-4647-d912-ccf84a6b805a"
      },
      "execution_count": 12,
      "outputs": [
        {
          "output_type": "stream",
          "name": "stdout",
          "text": [
            "Epoch 1 - Train loss 1.0481509491801262\n",
            "Epoch 2 - Train loss 0.9503128771172014\n",
            "Epoch 3 - Train loss 0.8846892715366774\n",
            "Epoch 4 - Train loss 0.8293602901489235\n",
            "Epoch 5 - Train loss 0.7612532919576002\n",
            "Epoch 6 - Train loss 0.6943677519123221\n",
            "Epoch 7 - Train loss 0.6217783373715573\n",
            "Epoch 8 - Train loss 0.4537414730591483\n",
            "Epoch 9 - Train loss 0.3629270672343325\n",
            "Epoch 10 - Train loss 0.33301447679797663\n",
            "Epoch 11 - Train loss 0.30996606268156535\n",
            "Epoch 12 - Train loss 0.2922036666477229\n",
            "Epoch 13 - Train loss 0.26858937383634796\n",
            "Epoch 14 - Train loss 0.24696217145944058\n",
            "Epoch 15 - Train loss 0.22284067328613208\n",
            "Epoch 16 - Train loss 0.19712336491630955\n",
            "Epoch 17 - Train loss 0.17379051005010232\n",
            "Epoch 18 - Train loss 0.14894981679187136\n",
            "Epoch 19 - Train loss 0.1179857680756466\n",
            "Epoch 20 - Train loss 0.10184681064425223\n",
            "Epoch 21 - Train loss 0.08472239080084512\n",
            "Epoch 22 - Train loss 0.0729304121254837\n",
            "Epoch 23 - Train loss 0.05035631101414173\n",
            "Epoch 24 - Train loss 0.05314572495295621\n",
            "Epoch 25 - Train loss 0.02939654864568966\n",
            "Epoch 26 - Train loss 0.019747422185858784\n",
            "Epoch 27 - Train loss 0.013223618844941208\n",
            "Epoch 28 - Train loss 0.010741245387666716\n",
            "Epoch 29 - Train loss 0.021310098784004652\n",
            "Epoch 30 - Train loss 0.04754944280208546\n",
            "Epoch 31 - Train loss 0.018828963935701784\n",
            "Epoch 32 - Train loss 0.0076679322632709195\n",
            "Epoch 33 - Train loss 0.002350736849980739\n",
            "Epoch 34 - Train loss 0.001513590715976428\n",
            "Epoch 35 - Train loss 0.0011582952158362809\n",
            "Epoch 36 - Train loss 0.0009874374255549238\n",
            "Epoch 37 - Train loss 0.0008460670425312583\n",
            "Epoch 38 - Train loss 0.0007408556194396031\n",
            "Epoch 39 - Train loss 0.0006579566226407202\n",
            "Epoch 40 - Train loss 0.0005921050383866327\n",
            "Epoch 41 - Train loss 0.0005426456434009403\n",
            "Epoch 42 - Train loss 0.0004968506916315875\n",
            "Epoch 43 - Train loss 0.00045809896885777807\n",
            "Epoch 44 - Train loss 0.000426880722586722\n",
            "Epoch 45 - Train loss 0.00039972429980006646\n",
            "Epoch 46 - Train loss 0.00037415281036890473\n",
            "Epoch 47 - Train loss 0.00035215384069976665\n",
            "Epoch 48 - Train loss 0.00033282073108658\n",
            "Epoch 49 - Train loss 0.00031577054969414236\n",
            "Epoch 50 - Train loss 0.00029759682143838575\n",
            "Epoch 51 - Train loss 0.00028269922010080317\n",
            "Epoch 52 - Train loss 0.0002721323435833412\n",
            "Epoch 53 - Train loss 0.0002598936073394159\n",
            "Epoch 54 - Train loss 0.0002484397928894087\n",
            "Epoch 55 - Train loss 0.0002382136209358364\n",
            "Epoch 56 - Train loss 0.00022830104495303664\n",
            "Epoch 57 - Train loss 0.000219599575789844\n",
            "Epoch 58 - Train loss 0.00021061469559759805\n",
            "Epoch 59 - Train loss 0.0002044387768797291\n",
            "Epoch 60 - Train loss 0.00019723939548904742\n",
            "Epoch 61 - Train loss 0.00019059106366033633\n",
            "Epoch 62 - Train loss 0.00018373713198157073\n",
            "Epoch 63 - Train loss 0.00017817275250845446\n",
            "Epoch 64 - Train loss 0.0001716876682372309\n",
            "Epoch 65 - Train loss 0.0001672607745683292\n",
            "Epoch 66 - Train loss 0.0001627992961598902\n",
            "Epoch 67 - Train loss 0.000157563386831563\n",
            "Epoch 68 - Train loss 0.00015322216630305727\n",
            "Epoch 69 - Train loss 0.00014915300957735577\n",
            "Epoch 70 - Train loss 0.00014564418624043814\n",
            "Epoch 71 - Train loss 0.00014128199061658444\n",
            "Epoch 72 - Train loss 0.00013801512638727184\n",
            "Epoch 73 - Train loss 0.00013434124904602963\n",
            "Epoch 74 - Train loss 0.00013092878649597343\n",
            "Epoch 75 - Train loss 0.00012794450802449328\n",
            "Epoch 76 - Train loss 0.00012453046836005224\n",
            "Epoch 77 - Train loss 0.0001218493731134001\n",
            "Epoch 78 - Train loss 0.00011919206863017184\n",
            "Epoch 79 - Train loss 0.00011652661409864841\n",
            "Epoch 80 - Train loss 0.00011416948855089859\n",
            "Epoch 81 - Train loss 0.00011124511846264163\n",
            "Epoch 82 - Train loss 0.00010946148557268087\n",
            "Epoch 83 - Train loss 0.00010700338720031789\n",
            "Epoch 84 - Train loss 0.00010455738036990607\n",
            "Epoch 85 - Train loss 0.00010268582577715367\n",
            "Epoch 86 - Train loss 0.00010046707815415312\n",
            "Epoch 87 - Train loss 9.851382302090757e-05\n",
            "Epoch 88 - Train loss 9.690107046257055e-05\n",
            "Epoch 89 - Train loss 9.497799187849145e-05\n",
            "Epoch 90 - Train loss 9.342555726106515e-05\n",
            "Epoch 91 - Train loss 9.179076112908985e-05\n",
            "Epoch 92 - Train loss 9.010626495429946e-05\n",
            "Epoch 93 - Train loss 8.873765054200293e-05\n",
            "Epoch 94 - Train loss 8.687892787455321e-05\n",
            "Epoch 95 - Train loss 8.550975534308564e-05\n",
            "Epoch 96 - Train loss 8.401165097499496e-05\n",
            "Epoch 97 - Train loss 8.303581191583435e-05\n",
            "Epoch 98 - Train loss 8.124323386659621e-05\n",
            "Epoch 99 - Train loss 7.995246082075823e-05\n",
            "Epoch 100 - Train loss 7.858682607147156e-05\n",
            "\n",
            "Training Time (in minutes) - 99.90076206922531\n"
          ]
        }
      ]
    },
    {
      "cell_type": "code",
      "source": [
        "images_validation,labels_validation=next(iter(validationloader))\n",
        "print(images_validation.shape)\n",
        "print(labels_validation)"
      ],
      "metadata": {
        "colab": {
          "base_uri": "https://localhost:8080/"
        },
        "id": "2r7VHs9538XQ",
        "outputId": "f5500955-9c18-41cf-849e-2a9d353d3b8d"
      },
      "execution_count": 13,
      "outputs": [
        {
          "output_type": "stream",
          "name": "stdout",
          "text": [
            "torch.Size([4, 1, 150, 150])\n",
            "tensor([1, 0, 0, 0])\n"
          ]
        }
      ]
    },
    {
      "cell_type": "code",
      "source": [
        "x_validation = images_validation[1].view(1,width*width)\n",
        "\n",
        "with torch.no_grad():\n",
        "  y = model(x_validation)\n",
        "\n",
        "print(torch.exp(y))\n",
        "\n",
        "plt.imshow(images_validation[1][0], cmap='gray')\n",
        "plt.show()\n",
        "print('ANSWER:' ,labels[1])\n"
      ],
      "metadata": {
        "colab": {
          "base_uri": "https://localhost:8080/",
          "height": 305
        },
        "id": "H7Y_bdKQ4IWP",
        "outputId": "54782f21-8d14-40fc-956a-b8ecc98a16d0"
      },
      "execution_count": 20,
      "outputs": [
        {
          "output_type": "stream",
          "name": "stdout",
          "text": [
            "tensor([[4.3830e-01, 5.6167e-01, 3.0460e-05]])\n"
          ]
        },
        {
          "output_type": "display_data",
          "data": {
            "text/plain": [
              "<Figure size 432x288 with 1 Axes>"
            ],
            "image/png": "[encoded data removed]"
          },
          "metadata": {
            "needs_background": "light"
          }
        },
        {
          "output_type": "stream",
          "name": "stdout",
          "text": [
            "ANSWER: tensor(1)\n"
          ]
        }
      ]
    },
    {
      "cell_type": "code",
      "source": [
        "true_positives = 0\n",
        "false_positives = 0\n",
        "false_negatives = 0\n",
        "true_negatives = 0\n",
        "\n",
        "for images_validation, labels_validation in validationloader:\n",
        "  for i in range(len(labels_validation)):\n",
        "    x = images_validation[i].view(1,150*150)\n",
        "\n",
        "    with torch.no_grad():\n",
        "        log_y = model(x)\n",
        "    y = torch.exp(log_y)\n",
        "    prob = list(y.numpy()[0])\n",
        "    pred_output = prob.index(max(prob))\n",
        "\n",
        "    answer = labels_validation.numpy()[i]\n",
        "    if answer == pred_output and answer == 0:\n",
        "          true_negatives += 1\n",
        "    elif answer == pred_output and answer == 1:\n",
        "          true_positives += 1\n",
        "    elif answer != pred_output and answer == 0:\n",
        "          false_positives += 1\n",
        "    elif answer != pred_output and answer == 1:\n",
        "          false_negatives += 1\n",
        "\n",
        "precision = true_positives / (true_positives + false_positives)\n",
        "recall = true_positives / (true_positives + false_negatives)\n",
        "f1 = 2 * (precision * recall) / (precision + recall)\n",
        "\n",
        "print('Number of Images validated:', true_positives + false_positives + false_negatives + true_negatives)\n",
        "print('Model Accuracy:', (true_positives + true_negatives) / (true_positives + false_positives + false_negatives + true_negatives))\n",
        "print('Precision:', precision)\n",
        "print('Recall:', recall)\n",
        "print('F1 Score:', f1)\n"
      ],
      "metadata": {
        "colab": {
          "base_uri": "https://localhost:8080/"
        },
        "id": "YBbaqj8cbXuv",
        "outputId": "2f112837-1c50-45d1-ce8a-f391769c2d89"
      },
      "execution_count": 22,
      "outputs": [
        {
          "output_type": "stream",
          "name": "stdout",
          "text": [
            "Number of Images validated: 1500\n",
            "Model Accuracy: 0.852\n",
            "Precision: 0.6991404011461319\n",
            "Recall: 0.976\n",
            "F1 Score: 0.8146911519198665\n"
          ]
        }
      ]
    },
    {
      "cell_type": "markdown",
      "source": [
        "**Prediction With Unseen Data**"
      ],
      "metadata": {
        "id": "NPhsxiGOceZT"
      }
    },
    {
      "cell_type": "code",
      "source": [
        "predictset = torchvision.datasets.ImageFolder(root=\"predict-750-images/\", transform=tranform)\n",
        "print(predictset)"
      ],
      "metadata": {
        "colab": {
          "base_uri": "https://localhost:8080/"
        },
        "id": "4sptB5q-cjc9",
        "outputId": "95535343-c3bc-4570-d115-32fd7d959678"
      },
      "execution_count": 25,
      "outputs": [
        {
          "output_type": "stream",
          "name": "stdout",
          "text": [
            "Dataset ImageFolder\n",
            "    Number of datapoints: 750\n",
            "    Root location: predict-750-images/\n",
            "    StandardTransform\n",
            "Transform: Compose(\n",
            "               Resize(size=(150, 150), interpolation=bilinear, max_size=None, antialias=None)\n",
            "               Grayscale(num_output_channels=1)\n",
            "               ToTensor()\n",
            "               Normalize(mean=0.5, std=0.5)\n",
            "           )\n"
          ]
        }
      ]
    },
    {
      "cell_type": "code",
      "source": [
        "predictloader = torch.utils.data.DataLoader(predictset, batch_size=4, shuffle=True)\n",
        "print(predictloader)"
      ],
      "metadata": {
        "colab": {
          "base_uri": "https://localhost:8080/"
        },
        "id": "HujnDdETcmHR",
        "outputId": "4c19757d-dee1-49b3-87ad-e6b14cad5b6c"
      },
      "execution_count": 26,
      "outputs": [
        {
          "output_type": "stream",
          "name": "stdout",
          "text": [
            "<torch.utils.data.dataloader.DataLoader object at 0x7f2e25d8ac10>\n"
          ]
        }
      ]
    },
    {
      "cell_type": "code",
      "source": [
        "images_predict,labels_predict=next(iter(predictloader))\n",
        "print(images_predict.shape)\n",
        "print(labels_predict)"
      ],
      "metadata": {
        "colab": {
          "base_uri": "https://localhost:8080/"
        },
        "id": "0939Q1SrcqIH",
        "outputId": "804e5061-b291-4dc3-8afa-ba69bb20b537"
      },
      "execution_count": 27,
      "outputs": [
        {
          "output_type": "stream",
          "name": "stdout",
          "text": [
            "torch.Size([4, 1, 150, 150])\n",
            "tensor([0, 0, 0, 0])\n"
          ]
        }
      ]
    },
    {
      "cell_type": "code",
      "source": [
        "x_predict = images_predict[1].view(1,width*width)\n",
        "\n",
        "with torch.no_grad():\n",
        "  y = model(x_predict)\n",
        "\n",
        "print(torch.exp(y))\n",
        "\n",
        "plt.imshow(images_predict[1][0], cmap='gray')\n",
        "plt.show()\n",
        "print('ANSWER:' ,labels[1])\n"
      ],
      "metadata": {
        "colab": {
          "base_uri": "https://localhost:8080/",
          "height": 305
        },
        "id": "wC9q1XLUcrbs",
        "outputId": "5ecb2a4b-4712-412a-ff3c-dea6d99f7cf0"
      },
      "execution_count": 28,
      "outputs": [
        {
          "output_type": "stream",
          "name": "stdout",
          "text": [
            "tensor([[1.3539e-05, 9.9999e-01, 1.7884e-07]])\n"
          ]
        },
        {
          "output_type": "display_data",
          "data": {
            "text/plain": [
              "<Figure size 432x288 with 1 Axes>"
            ],
            "image/png": "[encoded data removed]"
          },
          "metadata": {
            "needs_background": "light"
          }
        },
        {
          "output_type": "stream",
          "name": "stdout",
          "text": [
            "ANSWER: tensor(1)\n"
          ]
        }
      ]
    },
    {
      "cell_type": "code",
      "source": [
        "true_positives = 0\n",
        "false_positives = 0\n",
        "false_negatives = 0\n",
        "true_negatives = 0\n",
        "\n",
        "for images_predict, labels_predict in predictloader:\n",
        "  for i in range(len(labels_predict)):\n",
        "    x = images_predict[i].view(1,150*150)\n",
        "\n",
        "    with torch.no_grad():\n",
        "        log_y = model(x)\n",
        "    y = torch.exp(log_y)\n",
        "    prob = list(y.numpy()[0])\n",
        "    pred_output = prob.index(max(prob))\n",
        "\n",
        "    answer = labels_predict.numpy()[i]\n",
        "    if answer == pred_output and answer == 0:\n",
        "          true_negatives += 1\n",
        "    elif answer == pred_output and answer == 1:\n",
        "          true_positives += 1\n",
        "    elif answer != pred_output and answer == 0:\n",
        "          false_positives += 1\n",
        "    elif answer != pred_output and answer == 1:\n",
        "          false_negatives += 1\n",
        "\n",
        "precision = true_positives / (true_positives + false_positives)\n",
        "if (true_positives + false_negatives) == 0:\n",
        "    recall = 0\n",
        "else:\n",
        "    recall = true_positives / (true_positives + false_negatives)\n",
        "if (precision + recall) == 0:\n",
        "    f1 = 0\n",
        "else:\n",
        "    f1 = 2 * (precision * recall) / (precision + recall)\n",
        "\n",
        "print('Number of Images Predict with Unseen Data:', true_positives + false_positives + false_negatives + true_negatives)\n",
        "print('Model Accuracy:', (true_positives + true_negatives) / (true_positives + false_positives + false_negatives + true_negatives))\n",
        "print('Precision:', precision)\n",
        "print('Recall:', recall)\n",
        "print('F1 Score:', f1)"
      ],
      "metadata": {
        "colab": {
          "base_uri": "https://localhost:8080/"
        },
        "id": "vtzYlnwIcstR",
        "outputId": "50c7b734-42e5-4e14-ff14-f88c32d923b6"
      },
      "execution_count": 34,
      "outputs": [
        {
          "output_type": "stream",
          "name": "stdout",
          "text": [
            "Number of Images Predict with Unseen Data: 750\n",
            "Model Accuracy: 0.316\n",
            "Precision: 0.0\n",
            "Recall: 0\n",
            "F1 Score: 0\n"
          ]
        }
      ]
    },
    {
      "cell_type": "code",
      "source": [],
      "metadata": {
        "id": "g1xarjsldOek"
      },
      "execution_count": null,
      "outputs": []
    }
  ]
}