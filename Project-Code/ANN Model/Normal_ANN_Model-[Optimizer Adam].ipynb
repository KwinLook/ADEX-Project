{
  "cells": [
    {
      "cell_type": "markdown",
      "metadata": {
        "id": "view-in-github",
        "colab_type": "text"
      },
      "source": [
        "<a href=\"https://colab.research.google.com/github/KwinLook/ADEX-Project/blob/main/Project-Code/ANN%20Model/Normal_ANN_Model-%5BOptimizer%20Adam%5D.ipynb\" target=\"_parent\"><img src=\"https://colab.research.google.com/assets/colab-badge.svg\" alt=\"Open In Colab\"/></a>"
      ]
    },
    {
      "cell_type": "markdown",
      "source": [
        "**Normal ANN Model**\n",
        "*   Epoch Setting = 80\n",
        "*   Add Confusion Matrix Out Put (TP/TN/FP/FN)\n",
        "*   Using Adam Optimizer\n",
        "\n",
        "\n"
      ],
      "metadata": {
        "id": "iKlHRmY0Uywu"
      }
    },
    {
      "cell_type": "code",
      "execution_count": 1,
      "metadata": {
        "id": "r6nYz6njwCsK"
      },
      "outputs": [],
      "source": [
        "# from google.colab import drive\n",
        "# drive.mount('/content/drive')\n",
        "# ----------------------------------------------\n",
        "\n",
        "!unzip --qq dataset-training-3000-images.zip\n",
        "!unzip --qq dataset-predict-750-images.zip"
      ]
    },
    {
      "cell_type": "code",
      "execution_count": 2,
      "metadata": {
        "id": "Fys1chJXcuXI"
      },
      "outputs": [],
      "source": [
        "import numpy as np\n",
        "import matplotlib.pyplot as plt\n",
        "import torch\n",
        "import torch.utils.data as data\n",
        "import torchvision\n",
        "from torchvision import datasets, transforms\n",
        "from torch import nn,optim\n",
        "from time import time"
      ]
    },
    {
      "cell_type": "code",
      "execution_count": 3,
      "metadata": {
        "id": "rskklrQT0jqd"
      },
      "outputs": [],
      "source": [
        "width = 150\n",
        "size=(width,width)\n",
        "\n",
        "tranform = transforms.Compose([transforms.Resize(size),\n",
        "                              transforms.Grayscale(num_output_channels=1),\n",
        "                              transforms.ToTensor(),\n",
        "                              transforms.Normalize((0.5),(0.5))])"
      ]
    },
    {
      "cell_type": "code",
      "execution_count": 4,
      "metadata": {
        "colab": {
          "base_uri": "https://localhost:8080/"
        },
        "id": "1YDOtA0r1PWh",
        "outputId": "c9b15d18-3592-4925-dce2-42415ef6f511"
      },
      "outputs": [
        {
          "output_type": "stream",
          "name": "stdout",
          "text": [
            "Dataset ImageFolder\n",
            "    Number of datapoints: 3000\n",
            "    Root location: train/\n",
            "    StandardTransform\n",
            "Transform: Compose(\n",
            "               Resize(size=(150, 150), interpolation=bilinear, max_size=None, antialias=None)\n",
            "               Grayscale(num_output_channels=1)\n",
            "               ToTensor()\n",
            "               Normalize(mean=0.5, std=0.5)\n",
            "           )\n"
          ]
        }
      ],
      "source": [
        "trainset = torchvision.datasets.ImageFolder(root=\"train/\", transform=tranform)\n",
        "print(trainset)"
      ]
    },
    {
      "cell_type": "code",
      "execution_count": 5,
      "metadata": {
        "colab": {
          "base_uri": "https://localhost:8080/"
        },
        "id": "fZvMGkxA1kYP",
        "outputId": "ca7e1a79-37d6-4d22-b894-b5b53872104f"
      },
      "outputs": [
        {
          "output_type": "stream",
          "name": "stdout",
          "text": [
            "Dataset ImageFolder\n",
            "    Number of datapoints: 1500\n",
            "    Root location: validation/\n",
            "    StandardTransform\n",
            "Transform: Compose(\n",
            "               Resize(size=(150, 150), interpolation=bilinear, max_size=None, antialias=None)\n",
            "               Grayscale(num_output_channels=1)\n",
            "               ToTensor()\n",
            "               Normalize(mean=0.5, std=0.5)\n",
            "           )\n"
          ]
        }
      ],
      "source": [
        "validationset = torchvision.datasets.ImageFolder(root=\"validation/\", transform=tranform)\n",
        "print(validationset)"
      ]
    },
    {
      "cell_type": "code",
      "execution_count": 6,
      "metadata": {
        "colab": {
          "base_uri": "https://localhost:8080/"
        },
        "id": "h7di8tskwcIp",
        "outputId": "e4b4a5c8-a8e1-4b10-9549-c7603cb3313c"
      },
      "outputs": [
        {
          "output_type": "stream",
          "name": "stdout",
          "text": [
            "<torch.utils.data.dataloader.DataLoader object at 0x7f69ad17de20>\n"
          ]
        }
      ],
      "source": [
        "trainloader = torch.utils.data.DataLoader(trainset, batch_size=4, shuffle=True)\n",
        "print(trainloader)"
      ]
    },
    {
      "cell_type": "code",
      "execution_count": 7,
      "metadata": {
        "colab": {
          "base_uri": "https://localhost:8080/"
        },
        "id": "TvdQKsrZwdry",
        "outputId": "836e8062-c925-4e56-a411-1ffe53e003bb"
      },
      "outputs": [
        {
          "output_type": "stream",
          "name": "stdout",
          "text": [
            "<torch.utils.data.dataloader.DataLoader object at 0x7f69ad0c8040>\n"
          ]
        }
      ],
      "source": [
        "validationloader = torch.utils.data.DataLoader(validationset, batch_size=4, shuffle=True)\n",
        "print(validationloader)"
      ]
    },
    {
      "cell_type": "code",
      "execution_count": 8,
      "metadata": {
        "id": "ZgKjGaH9wfjh"
      },
      "outputs": [],
      "source": [
        "images, labels = next(iter(trainloader))"
      ]
    },
    {
      "cell_type": "code",
      "execution_count": 9,
      "metadata": {
        "colab": {
          "base_uri": "https://localhost:8080/"
        },
        "id": "JSsMWjnmwhHk",
        "outputId": "9c540e1a-a99e-4d7f-9d7a-943519c92fed"
      },
      "outputs": [
        {
          "output_type": "stream",
          "name": "stdout",
          "text": [
            "torch.Size([4, 1, 150, 150])\n",
            "torch.Size([4])\n",
            "tensor([0, 1, 1, 0])\n"
          ]
        }
      ],
      "source": [
        "print(images.shape)\n",
        "print(labels.shape)\n",
        "print(labels)"
      ]
    },
    {
      "cell_type": "code",
      "execution_count": 10,
      "metadata": {
        "id": "L5ix4ur9wiko"
      },
      "outputs": [],
      "source": [
        "# plt.imshow(images[2][0],cmap='gray')\n",
        "# plt.show()\n",
        "# print('Answer:',labels[2])"
      ]
    },
    {
      "cell_type": "code",
      "execution_count": 11,
      "metadata": {
        "colab": {
          "base_uri": "https://localhost:8080/"
        },
        "id": "ZehPdXGm3PfH",
        "outputId": "827584db-5066-4654-9690-0dd40cd5c355"
      },
      "outputs": [
        {
          "output_type": "stream",
          "name": "stdout",
          "text": [
            "Sequential(\n",
            "  (0): Linear(in_features=22500, out_features=1890, bias=True)\n",
            "  (1): ReLU()\n",
            "  (2): Linear(in_features=1890, out_features=1350, bias=True)\n",
            "  (3): ReLU()\n",
            "  (4): Linear(in_features=1350, out_features=810, bias=True)\n",
            "  (5): ReLU()\n",
            "  (6): Linear(in_features=810, out_features=270, bias=True)\n",
            "  (7): ReLU()\n",
            "  (8): Linear(in_features=270, out_features=135, bias=True)\n",
            "  (9): ReLU()\n",
            "  (10): Linear(in_features=135, out_features=60, bias=True)\n",
            "  (11): ReLU()\n",
            "  (12): Linear(in_features=60, out_features=3, bias=True)\n",
            "  (13): LogSoftmax(dim=1)\n",
            ")\n"
          ]
        }
      ],
      "source": [
        "#Create ANN Model\n",
        "input_size = width*width*1\n",
        "hidden_sizes = [1890,1350,810,270,135,60]\n",
        "output_size = 3\n",
        "\n",
        "model = nn.Sequential(nn.Linear(input_size, hidden_sizes[0]), nn.ReLU(),\n",
        "                      nn.Linear(hidden_sizes[0], hidden_sizes[1]), nn.ReLU(),\n",
        "                      nn.Linear(hidden_sizes[1], hidden_sizes[2]), nn.ReLU(),\n",
        "                      nn.Linear(hidden_sizes[2], hidden_sizes[3]), nn.ReLU(),\n",
        "                      nn.Linear(hidden_sizes[3], hidden_sizes[4]), nn.ReLU(),\n",
        "                      nn.Linear(hidden_sizes[4], hidden_sizes[5]), nn.ReLU(),\n",
        "                      nn.Linear(hidden_sizes[5], output_size), nn.LogSoftmax(dim=1))\n",
        "\n",
        "print(model)"
      ]
    },
    {
      "cell_type": "code",
      "execution_count": 12,
      "metadata": {
        "colab": {
          "base_uri": "https://localhost:8080/"
        },
        "id": "4yVJ1YWv3UrH",
        "outputId": "6da4578a-0ee4-4205-81ca-a982839d87b5"
      },
      "outputs": [
        {
          "output_type": "stream",
          "name": "stdout",
          "text": [
            "Epoch 1 - Train loss 0.5518706901700546\n",
            "Epoch 2 - Train loss 0.39429993406275754\n",
            "Epoch 3 - Train loss 0.5739683688416262\n",
            "Epoch 4 - Train loss 0.5363029484714692\n",
            "Epoch 5 - Train loss 0.37170106433174804\n",
            "Epoch 6 - Train loss 0.29950302659301087\n",
            "Epoch 7 - Train loss 0.28536256794128956\n",
            "Epoch 8 - Train loss 0.2354929501073994\n",
            "Epoch 9 - Train loss 0.26088254160503277\n",
            "Epoch 10 - Train loss 0.23647084394145168\n",
            "Epoch 11 - Train loss 0.18608378728504313\n",
            "Epoch 12 - Train loss 0.18599043579684948\n",
            "Epoch 13 - Train loss 0.32243233197648496\n",
            "Epoch 14 - Train loss 0.2861734758760852\n",
            "Epoch 15 - Train loss 0.19963359937947409\n",
            "Epoch 16 - Train loss 0.3645733155740953\n",
            "Epoch 17 - Train loss 0.5586954312560249\n",
            "Epoch 18 - Train loss 0.39922450443423196\n",
            "Epoch 19 - Train loss 0.6960273513793945\n",
            "Epoch 20 - Train loss 0.6953727184931437\n",
            "Epoch 21 - Train loss 0.6941798788706461\n",
            "Epoch 22 - Train loss 0.6951747850577037\n",
            "Epoch 23 - Train loss 0.6942558236122132\n",
            "Epoch 24 - Train loss 0.694859318335851\n",
            "Epoch 25 - Train loss 0.6949703301588694\n",
            "Epoch 26 - Train loss 0.6947122025887171\n",
            "Epoch 27 - Train loss 0.6943158318201701\n",
            "Epoch 28 - Train loss 0.6950638748804728\n",
            "Epoch 29 - Train loss 0.693984917084376\n",
            "Epoch 30 - Train loss 0.6941862098375956\n",
            "Epoch 31 - Train loss 0.6945350722471872\n",
            "Epoch 32 - Train loss 0.6944629187583924\n",
            "Epoch 33 - Train loss 0.694117840051651\n",
            "Epoch 34 - Train loss 0.6947561840216319\n",
            "Epoch 35 - Train loss 0.6940052321751913\n",
            "Epoch 36 - Train loss 0.6940332651933034\n",
            "Epoch 37 - Train loss 0.6945118638674418\n",
            "Epoch 38 - Train loss 0.6949644932746887\n",
            "Epoch 39 - Train loss 0.6943235116799672\n",
            "Epoch 40 - Train loss 0.6943243410587311\n",
            "Epoch 41 - Train loss 0.6944784666697185\n",
            "Epoch 42 - Train loss 0.6937342569033305\n",
            "Epoch 43 - Train loss 0.6943263155619304\n",
            "Epoch 44 - Train loss 0.6943395500977834\n",
            "Epoch 45 - Train loss 0.6945297509829204\n",
            "Epoch 46 - Train loss 0.6943090509573618\n",
            "Epoch 47 - Train loss 0.6946426180203755\n",
            "Epoch 48 - Train loss 0.6945860106150309\n",
            "Epoch 49 - Train loss 0.6940821825663249\n",
            "Epoch 50 - Train loss 0.6946021584669749\n",
            "Epoch 51 - Train loss 0.6935627740224203\n",
            "Epoch 52 - Train loss 0.6947922335465749\n",
            "Epoch 53 - Train loss 0.694416906674703\n",
            "Epoch 54 - Train loss 0.695101894458135\n",
            "Epoch 55 - Train loss 0.6943471028804779\n",
            "Epoch 56 - Train loss 0.6936642817656199\n",
            "Epoch 57 - Train loss 0.6947188835144043\n",
            "Epoch 58 - Train loss 0.6948270521163941\n",
            "Epoch 59 - Train loss 0.6944044013818105\n",
            "Epoch 60 - Train loss 0.6943491102854411\n",
            "Epoch 61 - Train loss 0.6943460160891215\n",
            "Epoch 62 - Train loss 0.6946321312586466\n",
            "Epoch 63 - Train loss 0.6948579539457957\n",
            "Epoch 64 - Train loss 0.6952744364738465\n",
            "Epoch 65 - Train loss 0.6939907147884369\n",
            "Epoch 66 - Train loss 0.6943780449231466\n",
            "Epoch 67 - Train loss 0.6944551934401194\n",
            "Epoch 68 - Train loss 0.6946713507970174\n",
            "Epoch 69 - Train loss 0.6946019699573517\n",
            "Epoch 70 - Train loss 0.6946770194371541\n",
            "Epoch 71 - Train loss 0.6945415170987447\n",
            "Epoch 72 - Train loss 0.6924901491800944\n",
            "Epoch 73 - Train loss 0.6940271261533102\n",
            "Epoch 74 - Train loss 0.694925658861796\n",
            "Epoch 75 - Train loss 0.6941481783390046\n",
            "Epoch 76 - Train loss 0.6941865080197652\n",
            "Epoch 77 - Train loss 0.694523904800415\n",
            "Epoch 78 - Train loss 0.6942539218266806\n",
            "Epoch 79 - Train loss 0.6947092666625977\n",
            "Epoch 80 - Train loss 0.6948963641325633\n",
            "\n",
            "Training Time (in minutes) - 634.7598472078641\n"
          ]
        }
      ],
      "source": [
        "#Train Model\n",
        "criterion = nn.CrossEntropyLoss()\n",
        "optimizer = optim.Adam(model.parameters(), lr=0.001)\n",
        "time0 = time()\n",
        "epochs = 80\n",
        "for e in range(epochs):\n",
        "  running_loss = 0\n",
        "  for images, labels in trainloader:\n",
        "    x = images.view(images.shape[0], -1)\n",
        "    optimizer.zero_grad()\n",
        "    output = model(x)\n",
        "    loss = criterion(output, labels)\n",
        "    loss.backward()\n",
        "    optimizer.step()\n",
        "    running_loss += loss.item()\n",
        "  print('Epoch {} - Train loss {}'.format(e+1, running_loss/len(trainloader)))\n",
        "print('\\nTraining Time (in minutes) - {}'.format((time()-time0)/60))"
      ]
    },
    {
      "cell_type": "code",
      "execution_count": 13,
      "metadata": {
        "id": "2r7VHs9538XQ",
        "colab": {
          "base_uri": "https://localhost:8080/"
        },
        "outputId": "1baf9ae3-7fa9-4ca5-919d-929703b18b50"
      },
      "outputs": [
        {
          "output_type": "stream",
          "name": "stdout",
          "text": [
            "torch.Size([4, 1, 150, 150])\n",
            "tensor([1, 1, 1, 0])\n"
          ]
        }
      ],
      "source": [
        "images_validation,labels_validation=next(iter(validationloader))\n",
        "print(images_validation.shape)\n",
        "print(labels_validation)"
      ]
    },
    {
      "cell_type": "code",
      "execution_count": 14,
      "metadata": {
        "id": "H7Y_bdKQ4IWP",
        "colab": {
          "base_uri": "https://localhost:8080/",
          "height": 304
        },
        "outputId": "f26bf69d-0a97-4886-b049-6c550c7568d5"
      },
      "outputs": [
        {
          "output_type": "stream",
          "name": "stdout",
          "text": [
            "tensor([[4.9787e-01, 5.0213e-01, 1.8526e-10]])\n"
          ]
        },
        {
          "output_type": "display_data",
          "data": {
            "text/plain": [
              "<Figure size 432x288 with 1 Axes>"
            ],
            "image/png": "[encoded data removed]"
          },
          "metadata": {
            "needs_background": "light"
          }
        },
        {
          "output_type": "stream",
          "name": "stdout",
          "text": [
            "ANSWER: tensor(1)\n"
          ]
        }
      ],
      "source": [
        "x_validation = images_validation[1].view(1,width*width)\n",
        "\n",
        "with torch.no_grad():\n",
        "  y = model(x_validation)\n",
        "\n",
        "print(torch.exp(y))\n",
        "\n",
        "plt.imshow(images_validation[1][0], cmap='gray')\n",
        "plt.show()\n",
        "print('ANSWER:' ,labels[1])\n"
      ]
    },
    {
      "cell_type": "code",
      "execution_count": 15,
      "metadata": {
        "id": "YBbaqj8cbXuv",
        "colab": {
          "base_uri": "https://localhost:8080/"
        },
        "outputId": "f89aeeab-fac6-467f-b4e7-34b77e12a628"
      },
      "outputs": [
        {
          "output_type": "stream",
          "name": "stdout",
          "text": [
            "Number of Images validated: 1500\n",
            "True Position: 500\n",
            "True Negative: 0\n",
            "False Positives: 1000\n",
            "False Negative: 0\n",
            "-------------------------------------------------------------\n",
            "Model Accuracy: 0.3333333333333333\n",
            "Precision: 0.3333333333333333\n",
            "Recall: 1.0\n",
            "F1 Score: 0.5\n"
          ]
        }
      ],
      "source": [
        "true_positives = 0\n",
        "false_positives = 0\n",
        "false_negatives = 0\n",
        "true_negatives = 0\n",
        "\n",
        "for images_validation, labels_validation in validationloader:\n",
        "  for i in range(len(labels_validation)):\n",
        "    x = images_validation[i].view(1,150*150)\n",
        "\n",
        "    with torch.no_grad():\n",
        "        log_y = model(x)\n",
        "    y = torch.exp(log_y)\n",
        "    prob = list(y.numpy()[0])\n",
        "    pred_output = prob.index(max(prob))\n",
        "\n",
        "    answer = labels_validation.numpy()[i]\n",
        "    if answer == pred_output and answer == 0:\n",
        "          true_negatives += 1\n",
        "    elif answer == pred_output and answer == 1:\n",
        "          true_positives += 1\n",
        "    elif answer != pred_output and answer == 0:\n",
        "          false_positives += 1\n",
        "    elif answer != pred_output and answer == 1:\n",
        "          false_negatives += 1\n",
        "\n",
        "precision = true_positives / (true_positives + false_positives)\n",
        "recall = true_positives / (true_positives + false_negatives)\n",
        "f1 = 2 * (precision * recall) / (precision + recall)\n",
        "\n",
        "print('Number of Images validated:', true_positives + false_positives + false_negatives + true_negatives)\n",
        "print('True Position:', true_positives)\n",
        "print('True Negative:', true_negatives)\n",
        "print('False Positives:', false_positives)\n",
        "print('False Negative:', false_negatives)\n",
        "print('-------------------------------------------------------------')\n",
        "print('Model Accuracy:', (true_positives + true_negatives) / (true_positives + false_positives + false_negatives + true_negatives))\n",
        "print('Precision:', precision)\n",
        "print('Recall:', recall)\n",
        "print('F1 Score:', f1)\n"
      ]
    },
    {
      "cell_type": "code",
      "execution_count": 16,
      "metadata": {
        "id": "4sptB5q-cjc9",
        "colab": {
          "base_uri": "https://localhost:8080/"
        },
        "outputId": "e2e9e1db-7337-4cda-9412-e5160b2d97f8"
      },
      "outputs": [
        {
          "output_type": "stream",
          "name": "stdout",
          "text": [
            "Dataset ImageFolder\n",
            "    Number of datapoints: 750\n",
            "    Root location: predict-750-images/\n",
            "    StandardTransform\n",
            "Transform: Compose(\n",
            "               Resize(size=(150, 150), interpolation=bilinear, max_size=None, antialias=None)\n",
            "               Grayscale(num_output_channels=1)\n",
            "               ToTensor()\n",
            "               Normalize(mean=0.5, std=0.5)\n",
            "           )\n"
          ]
        }
      ],
      "source": [
        "predictset = torchvision.datasets.ImageFolder(root=\"predict-750-images/\", transform=tranform)\n",
        "print(predictset)"
      ]
    },
    {
      "cell_type": "code",
      "execution_count": 17,
      "metadata": {
        "id": "HujnDdETcmHR",
        "colab": {
          "base_uri": "https://localhost:8080/"
        },
        "outputId": "5b0c3594-1a53-4c51-8a92-bbdef74c78db"
      },
      "outputs": [
        {
          "output_type": "stream",
          "name": "stdout",
          "text": [
            "<torch.utils.data.dataloader.DataLoader object at 0x7f69ad0d3df0>\n"
          ]
        }
      ],
      "source": [
        "predictloader = torch.utils.data.DataLoader(predictset, batch_size=4, shuffle=True)\n",
        "print(predictloader)"
      ]
    },
    {
      "cell_type": "code",
      "execution_count": 18,
      "metadata": {
        "id": "0939Q1SrcqIH",
        "colab": {
          "base_uri": "https://localhost:8080/"
        },
        "outputId": "ee931c80-2522-4c41-8498-20485e351b18"
      },
      "outputs": [
        {
          "output_type": "stream",
          "name": "stdout",
          "text": [
            "torch.Size([4, 1, 150, 150])\n",
            "tensor([0, 0, 0, 0])\n"
          ]
        }
      ],
      "source": [
        "images_predict,labels_predict=next(iter(predictloader))\n",
        "print(images_predict.shape)\n",
        "print(labels_predict)"
      ]
    },
    {
      "cell_type": "code",
      "execution_count": 19,
      "metadata": {
        "id": "wC9q1XLUcrbs",
        "colab": {
          "base_uri": "https://localhost:8080/",
          "height": 304
        },
        "outputId": "4191dc8c-d719-40dd-da75-20c62ab7c952"
      },
      "outputs": [
        {
          "output_type": "stream",
          "name": "stdout",
          "text": [
            "tensor([[4.9787e-01, 5.0213e-01, 1.8526e-10]])\n"
          ]
        },
        {
          "output_type": "display_data",
          "data": {
            "text/plain": [
              "<Figure size 432x288 with 1 Axes>"
            ],
            "image/png": "[encoded data removed]"
          },
          "metadata": {
            "needs_background": "light"
          }
        },
        {
          "output_type": "stream",
          "name": "stdout",
          "text": [
            "ANSWER: tensor(1)\n"
          ]
        }
      ],
      "source": [
        "x_predict = images_predict[1].view(1,width*width)\n",
        "\n",
        "with torch.no_grad():\n",
        "  y = model(x_predict)\n",
        "\n",
        "print(torch.exp(y))\n",
        "\n",
        "plt.imshow(images_predict[1][0], cmap='gray')\n",
        "plt.show()\n",
        "print('ANSWER:' ,labels[1])\n"
      ]
    },
    {
      "cell_type": "markdown",
      "source": [
        "# **Predict with Unseen Data**"
      ],
      "metadata": {
        "id": "2RD-NnQuVNCs"
      }
    },
    {
      "cell_type": "code",
      "execution_count": 20,
      "metadata": {
        "id": "vtzYlnwIcstR",
        "colab": {
          "base_uri": "https://localhost:8080/"
        },
        "outputId": "26613527-ed70-4584-d02e-d78e08cf42bf"
      },
      "outputs": [
        {
          "output_type": "stream",
          "name": "stdout",
          "text": [
            "Number of Images Predict with Unseen Data: 750\n",
            "True Position: 0\n",
            "True Negative: 0\n",
            "False Positives: 750\n",
            "False Negative: 0\n",
            "-------------------------------------------------------------\n",
            "Model Accuracy: 0.0\n",
            "Precision: 0.0\n",
            "Recall: 0\n",
            "F1 Score: 0\n"
          ]
        }
      ],
      "source": [
        "true_positives = 0\n",
        "false_positives = 0\n",
        "false_negatives = 0\n",
        "true_negatives = 0\n",
        "\n",
        "for images_predict, labels_predict in predictloader:\n",
        "  for i in range(len(labels_predict)):\n",
        "    x = images_predict[i].view(1,150*150)\n",
        "\n",
        "    with torch.no_grad():\n",
        "        log_y = model(x)\n",
        "    y = torch.exp(log_y)\n",
        "    prob = list(y.numpy()[0])\n",
        "    pred_output = prob.index(max(prob))\n",
        "\n",
        "    answer = labels_predict.numpy()[i]\n",
        "    if answer == pred_output and answer == 0:\n",
        "          true_negatives += 1\n",
        "    elif answer == pred_output and answer == 1:\n",
        "          true_positives += 1\n",
        "    elif answer != pred_output and answer == 0:\n",
        "          false_positives += 1\n",
        "    elif answer != pred_output and answer == 1:\n",
        "          false_negatives += 1\n",
        "\n",
        "precision = true_positives / (true_positives + false_positives)\n",
        "if (true_positives + false_negatives) == 0:\n",
        "    recall = 0\n",
        "else:\n",
        "    recall = true_positives / (true_positives + false_negatives)\n",
        "if (precision + recall) == 0:\n",
        "    f1 = 0\n",
        "else:\n",
        "    f1 = 2 * (precision * recall) / (precision + recall)\n",
        "\n",
        "print('Number of Images Predict with Unseen Data:', true_positives + false_positives + false_negatives + true_negatives)\n",
        "print('True Position:', true_positives)\n",
        "print('True Negative:', true_negatives)\n",
        "print('False Positives:', false_positives)\n",
        "print('False Negative:', false_negatives)\n",
        "print('-------------------------------------------------------------')\n",
        "print('Model Accuracy:', (true_positives + true_negatives) / (true_positives + false_positives + false_negatives + true_negatives))\n",
        "print('Precision:', precision)\n",
        "print('Recall:', recall)\n",
        "print('F1 Score:', f1)"
      ]
    },
    {
      "cell_type": "markdown",
      "source": [
        "# **Predict with Validation Data**"
      ],
      "metadata": {
        "id": "4CQ_0oNIVGAu"
      }
    },
    {
      "cell_type": "code",
      "execution_count": 21,
      "metadata": {
        "id": "g1xarjsldOek",
        "colab": {
          "base_uri": "https://localhost:8080/"
        },
        "outputId": "36b51531-4220-4ef4-bf14-cc1cd081d293"
      },
      "outputs": [
        {
          "output_type": "stream",
          "name": "stdout",
          "text": [
            "Number of Images validated: 1500\n",
            "True Position: 500\n",
            "True Negative: 0\n",
            "False Positives: 1000\n",
            "False Negative: 0\n",
            "-------------------------------------------------------------\n",
            "Model Accuracy: 0.3333333333333333\n",
            "Precision: 0.3333333333333333\n",
            "Recall: 1.0\n",
            "F1 Score: 0.5\n"
          ]
        }
      ],
      "source": [
        "true_positives = 0\n",
        "false_positives = 0\n",
        "false_negatives = 0\n",
        "true_negatives = 0\n",
        "\n",
        "for images_validation, labels_validation in validationloader:\n",
        "  for i in range(len(labels_validation)):\n",
        "    x = images_validation[i].view(1,150*150)\n",
        "\n",
        "    with torch.no_grad():\n",
        "        log_y = model(x)\n",
        "    y = torch.exp(log_y)\n",
        "    prob = list(y.numpy()[0])\n",
        "    pred_output = prob.index(max(prob))\n",
        "\n",
        "    answer = labels_validation.numpy()[i]\n",
        "    if answer == pred_output and answer == 0:\n",
        "          true_negatives += 1\n",
        "    elif answer == pred_output and answer == 1:\n",
        "          true_positives += 1\n",
        "    elif answer != pred_output and answer == 0:\n",
        "          false_positives += 1\n",
        "    elif answer != pred_output and answer == 1:\n",
        "          false_negatives += 1\n",
        "\n",
        "precision = true_positives / (true_positives + false_positives)\n",
        "recall = true_positives / (true_positives + false_negatives)\n",
        "f1 = 2 * (precision * recall) / (precision + recall)\n",
        "\n",
        "print('Number of Images validated:', true_positives + false_positives + false_negatives + true_negatives)\n",
        "print('True Position:', true_positives)\n",
        "print('True Negative:', true_negatives)\n",
        "print('False Positives:', false_positives)\n",
        "print('False Negative:', false_negatives)\n",
        "print('-------------------------------------------------------------')\n",
        "print('Model Accuracy:', (true_positives + true_negatives) / (true_positives + false_positives + false_negatives + true_negatives))\n",
        "print('Precision:', precision)\n",
        "print('Recall:', recall)\n",
        "print('F1 Score:', f1)\n"
      ]
    }
  ],
  "metadata": {
    "accelerator": "GPU",
    "colab": {
      "machine_shape": "hm",
      "provenance": [],
      "include_colab_link": true
    },
    "gpuClass": "standard",
    "kernelspec": {
      "display_name": "Python 3",
      "name": "python3"
    },
    "language_info": {
      "name": "python"
    }
  },
  "nbformat": 4,
  "nbformat_minor": 0
}